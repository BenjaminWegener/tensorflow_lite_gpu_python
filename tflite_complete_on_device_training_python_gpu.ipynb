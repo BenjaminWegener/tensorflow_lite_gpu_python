{
 "cells": [
  {
   "cell_type": "markdown",
   "metadata": {
    "id": "g_nWetWWd_ns"
   },
   "source": [
    "##### Copyright 2021 The TensorFlow Authors."
   ]
  },
  {
   "cell_type": "code",
   "execution_count": 1,
   "metadata": {
    "cellView": "form",
    "id": "2pHVBk_seED1",
    "scrolled": false
   },
   "outputs": [],
   "source": [
    "#@title Licensed under the Apache License, Version 2.0 (the \"License\");\n",
    "# you may not use this file except in compliance with the License.\n",
    "# You may obtain a copy of the License at\n",
    "#\n",
    "# https://www.apache.org/licenses/LICENSE-2.0\n",
    "#\n",
    "# Unless required by applicable law or agreed to in writing, software\n",
    "# distributed under the License is distributed on an \"AS IS\" BASIS,\n",
    "# WITHOUT WARRANTIES OR CONDITIONS OF ANY KIND, either express or implied.\n",
    "# See the License for the specific language governing permissions and\n",
    "# limitations under the License."
   ]
  },
  {
   "cell_type": "markdown",
   "metadata": {
    "id": "M7vSdG6sAIQn"
   },
   "source": [
    "# On-Device Training with TensorFlow Lite"
   ]
  },
  {
   "cell_type": "markdown",
   "metadata": {
    "id": "fwc5GKHBASdc"
   },
   "source": [
    "<table class=\"tfo-notebook-buttons\" align=\"left\">\n",
    "  <td>\n",
    "    <a target=\"_blank\" href=\"https://www.tensorflow.org/lite/examples/on_device_training/overview\"><img src=\"https://www.tensorflow.org/images/tf_logo_32px.png\" />View on TensorFlow.org</a>\n",
    "  </td>\n",
    "  <td>\n",
    "    <a target=\"_blank\" href=\"https://colab.research.google.com/github/tensorflow/tensorflow/blob/master/tensorflow/lite/g3doc/examples/on_device_training/overview.ipynb\"><img src=\"https://www.tensorflow.org/images/colab_logo_32px.png\" />Run in Google Colab</a>\n",
    "  </td>\n",
    "  <td>\n",
    "    <a target=\"_blank\" href=\"https://github.com/tensorflow/tensorflow/blob/master/tensorflow/lite/g3doc/examples/on_device_training/overview.ipynb\"><img src=\"https://www.tensorflow.org/images/GitHub-Mark-32px.png\" />View source on GitHub</a>\n",
    "  </td>\n",
    "  <td>\n",
    "    <a href=\"https://storage.googleapis.com/tensorflow_docs/tensorflow/tensorflow/lite/g3doc/examples/on_device_training/overview.ipynb\"><img src=\"https://www.tensorflow.org/images/download_logo_32px.png\" />Download notebook</a>\n",
    "  </td>\n",
    "</table>"
   ]
  },
  {
   "cell_type": "markdown",
   "metadata": {
    "id": "9ee074e4"
   },
   "source": [
    "When deploying TensorFlow Lite machine learning model to device or mobile app, you may want to enable the model to be improved or personalized based on input from the device or end user. Using on-device training techniques allows you to update a model *without* data leaving your users' devices, improving user privacy, and without requiring users to update the device software.\n",
    "\n",
    "For example, you may have a model in your mobile app that recognizes fashion items, but you want users to get improved recognition performance over time based on their interests. Enabling on-device training allows users who are interested in shoes to get better at recognizing a particular style of shoe or shoe brand the more often they use your app.\n",
    "\n",
    "This tutorial shows you how to construct a TensorFlow Lite model that can be incrementally trained and improved within an installed Android app.\n",
    "\n",
    "Note: The on-device training technique can be added to existing TensorFlow Lite implementations, provided the devices you are targeting support local file storage.\n"
   ]
  },
  {
   "cell_type": "markdown",
   "metadata": {
    "id": "UaWdLA3fQDK2"
   },
   "source": [
    "## Setup\n",
    "\n",
    "This tutorial uses Python to train and convert a TensorFlow model before incorporating it into an Android app. Get started by installing and importing the following packages."
   ]
  },
  {
   "cell_type": "code",
   "execution_count": 2,
   "metadata": {
    "colab": {
     "base_uri": "https://localhost:8080/"
    },
    "id": "9j4MGqyKQEo4",
    "outputId": "f29bc94d-56ff-4240-e924-152709701b52",
    "scrolled": false
   },
   "outputs": [
    {
     "name": "stdout",
     "output_type": "stream",
     "text": [
      "TensorFlow version: 2.15.0\n"
     ]
    }
   ],
   "source": [
    "NUM_EPOCHS = 10\n",
    "BATCH_SIZE = 10\n",
    "import matplotlib.pyplot as plt\n",
    "import numpy as np\n",
    "import tensorflow as tf\n",
    "\n",
    "print(\"TensorFlow version:\", tf.__version__)"
   ]
  },
  {
   "cell_type": "markdown",
   "metadata": {
    "id": "oOCyq3dTvfL6"
   },
   "source": [
    "Note: The On-Device Training APIs are available in TensorFlow version 2.7 and higher."
   ]
  },
  {
   "cell_type": "markdown",
   "metadata": {
    "id": "_omifE5JKpt4"
   },
   "source": [
    "## Classify images of clothing\n",
    "\n",
    "This example code uses the [Fashion MNIST dataset](https://keras.io/api/datasets/fashion_mnist/) to train a neural network model for classifying images of clothing. This dataset contains 60,000 small (28 x 28 pixel) grayscale images containing 10 different categories of fashion accessories, including dresses, shirts, and sandals.\n",
    "\n",
    "<figure>\n",
    "  <img src=\"https://tensorflow.org/images/fashion-mnist-sprite.png\"\n",
    "       alt=\"Fashion MNIST images\">\n",
    "  <figcaption><b>Figure 1</b>: <a href=\"https://github.com/zalandoresearch/fashion-mnist\">Fashion-MNIST samples</a> (by Zalando, MIT License).</figcaption>\n",
    "</figure>\n",
    "\n",
    "You can explore this dataset in more depth in the [Keras classification tutorial](https://www.tensorflow.org/tutorials/keras/classification#import_the_fashion_mnist_dataset)."
   ]
  },
  {
   "cell_type": "markdown",
   "metadata": {
    "id": "FN2N6hPEP-Ay"
   },
   "source": [
    "## Build a model for on-device training\n",
    "\n",
    "TensorFlow Lite models typically have only a single exposed function method (or [signature](https://www.tensorflow.org/lite/guide/signatures)) that allows you to call the model to run an inference. For a model to be trained and used on a device, you must be able to perform several separate operations, including train, infer, save, and restore functions for the model. You can enable this functionality by first extending your TensorFlow model to have multiple functions, and then exposing those functions as signatures when you convert your model to the TensorFlow Lite model format.\n",
    "\n",
    "The code example below shows you how to add the following functions to a TensorFlow model:\n",
    "\n",
    "*   `train` function trains the model with training data.\n",
    "*   `infer` function invokes the inference.\n",
    "*   `save` function saves the trainable weights into the file system.\n",
    "*   `restore` function loads the trainable weights from the file system."
   ]
  },
  {
   "cell_type": "code",
   "execution_count": null,
   "metadata": {},
   "outputs": [],
   "source": [
    "NUM_EPOCHS = 1"
   ]
  },
  {
   "cell_type": "code",
   "execution_count": null,
   "metadata": {
    "id": "d8577c80",
    "scrolled": false
   },
   "outputs": [],
   "source": [
    "IMG_SIZE = 28\n",
    "\n",
    "class Model(tf.Module):\n",
    "\n",
    "    def __init__(self):\n",
    "        self.model = tf.keras.Sequential([\n",
    "#            tf.keras.layers.Flatten(input_shape=(IMG_SIZE, IMG_SIZE), name='flatten'),\n",
    "#            tf.keras.layers.Dense(128, activation='relu', name='dense_1'),\n",
    "#            tf.keras.layers.Dense(10, name='dense_2')\n",
    "\n",
    "            # replace by a convolution model suited for gpu\n",
    "            tf.keras.layers.Reshape((IMG_SIZE, IMG_SIZE, 1), input_shape=(IMG_SIZE, IMG_SIZE)),\n",
    "            tf.keras.layers.Conv2D(12, 3, padding = 'same'),\n",
    "            tf.keras.layers.Conv2D(1, 2, padding = 'same'),\n",
    "            tf.keras.layers.Reshape(((IMG_SIZE * IMG_SIZE),)),\n",
    "            tf.keras.layers.Dense(10)\n",
    "        ])\n",
    "\n",
    "        self.model.compile(\n",
    "            optimizer='sgd',\n",
    "            loss=tf.keras.losses.CategoricalCrossentropy(from_logits=True))\n",
    "\n",
    "  # The `train` function takes a batch of input images and labels.\n",
    "    @tf.function(input_signature=[\n",
    "        tf.TensorSpec([None, IMG_SIZE, IMG_SIZE], tf.float32),\n",
    "        tf.TensorSpec([None, 10], tf.float32),\n",
    "    ])\n",
    "    def train(self, x, y):\n",
    "        with tf.GradientTape() as tape:\n",
    "            prediction = self.model(x)\n",
    "            loss = self.model.loss(y, prediction)\n",
    "        gradients = tape.gradient(loss, self.model.trainable_variables)\n",
    "        self.model.optimizer.apply_gradients(\n",
    "            zip(gradients, self.model.trainable_variables))\n",
    "        result = {\"loss\": loss}\n",
    "        return result\n",
    "\n",
    "    @tf.function(input_signature=[\n",
    "        tf.TensorSpec([None, IMG_SIZE, IMG_SIZE], tf.float32),\n",
    "    ])\n",
    "    def infer(self, x):\n",
    "        logits = self.model(x)\n",
    "        probabilities = tf.nn.softmax(logits, axis=-1)\n",
    "        return {\n",
    "            \"output\": probabilities,\n",
    "            \"logits\": logits\n",
    "        }\n",
    "\n",
    "    @tf.function(input_signature=[tf.TensorSpec(shape=[], dtype=tf.string)])\n",
    "    def save(self, checkpoint_path):\n",
    "        tensor_names = [weight.name for weight in self.model.weights]\n",
    "        tensors_to_save = [weight.read_value() for weight in self.model.weights]\n",
    "        tf.raw_ops.Save(\n",
    "            filename=checkpoint_path, tensor_names=tensor_names,\n",
    "            data=tensors_to_save, name='save')\n",
    "        return {\n",
    "            \"checkpoint_path\": checkpoint_path\n",
    "        }\n",
    "\n",
    "    @tf.function(input_signature=[tf.TensorSpec(shape=[], dtype=tf.string)])\n",
    "    def restore(self, checkpoint_path):\n",
    "        restored_tensors = {}\n",
    "        for var in self.model.weights:\n",
    "            restored = tf.raw_ops.Restore(\n",
    "                file_pattern=checkpoint_path, tensor_name=var.name, dt=var.dtype,\n",
    "                name='restore')\n",
    "            var.assign(restored)\n",
    "            restored_tensors[var.name] = restored\n",
    "        return restored_tensors"
   ]
  },
  {
   "cell_type": "markdown",
   "metadata": {
    "id": "86tBMjoBnp6d"
   },
   "source": [
    "The `train` function in the code above uses the [GradientTape](https://www.tensorflow.org/api_docs/python/tf/GradientTape) class to record operations for automatic differentiation. For more information on how to use this class, see the [Introduction to gradients and automatic differentiation](https://www.tensorflow.org/guide/autodiff).\n",
    "\n",
    "You could use the `Model.train_step` method of the keras model here instead of a from-scratch implementation. Just note that the loss (and metrics) returned by `Model.train_step` is the running average, and should be reset regularly (typically each epoch). See [Customize Model.fit](https://www.tensorflow.org/guide/keras/customizing_what_happens_in_fit) for details.\n",
    "\n",
    "Note: The weights generated by this model are serialized into a TensorFlow 1 format checkpoint file."
   ]
  },
  {
   "cell_type": "markdown",
   "metadata": {
    "id": "a813419961ef"
   },
   "source": [
    "## Prepare the data\n",
    "\n",
    "Get the Fashion MNIST dataset for training your model."
   ]
  },
  {
   "cell_type": "code",
   "execution_count": 9,
   "metadata": {
    "colab": {
     "base_uri": "https://localhost:8080/"
    },
    "id": "315b8b4dfc16",
    "outputId": "085d7410-de84-483c-9eb1-b7dce5b51dab",
    "scrolled": false
   },
   "outputs": [],
   "source": [
    "fashion_mnist = tf.keras.datasets.fashion_mnist\n",
    "(train_images, train_labels), (test_images, test_labels) = fashion_mnist.load_data()"
   ]
  },
  {
   "cell_type": "markdown",
   "metadata": {
    "id": "2eDn-bRD30sw"
   },
   "source": [
    "### Preprocess the dataset\n",
    "\n",
    "Pixel values in this dataset are between 0 and 255, and must be normalized to a value between 0 and 1 for processing by the model. Divide the values by 255 to make this adjustment."
   ]
  },
  {
   "cell_type": "code",
   "execution_count": 10,
   "metadata": {
    "id": "g0FqHC0yCg6n",
    "scrolled": false
   },
   "outputs": [],
   "source": [
    "train_images = (train_images / 255.0).astype(np.float32)\n",
    "test_images = (test_images / 255.0).astype(np.float32)"
   ]
  },
  {
   "cell_type": "markdown",
   "metadata": {
    "id": "1bbee849ab73"
   },
   "source": [
    "Convert the data labels to categorical values by performing one-hot encoding."
   ]
  },
  {
   "cell_type": "code",
   "execution_count": 11,
   "metadata": {
    "id": "Fmc7EgYO30sw",
    "scrolled": false
   },
   "outputs": [],
   "source": [
    "train_labels = tf.keras.utils.to_categorical(train_labels)\n",
    "test_labels = tf.keras.utils.to_categorical(test_labels)"
   ]
  },
  {
   "cell_type": "markdown",
   "metadata": {
    "id": "79f5f372fb0e"
   },
   "source": [
    "Note: Make sure you preprocess your *training* and *testing* datasets in the same way, so that your testing accurately evaluate your model's performance."
   ]
  },
  {
   "cell_type": "markdown",
   "metadata": {
    "id": "xkuDUFNNyAVN"
   },
   "source": [
    "## Train the model\n",
    "\n",
    "Before converting and setting up your TensorFlow Lite model, complete the initial training of your model using the preprocessed dataset and the `train` signature method. The following code runs model training for 100 epochs, processing batches of 100 images at a time, and displaying the loss value after every 10 epochs. Since this training run is processing quite a bit of data, it may take a few minutes to finish.\n"
   ]
  },
  {
   "cell_type": "code",
   "execution_count": 12,
   "metadata": {
    "colab": {
     "base_uri": "https://localhost:8080/"
    },
    "id": "Diwn1MmkNVeX",
    "outputId": "cf8264ee-26b1-4b67-d3dd-1ce9ac10e065",
    "scrolled": false
   },
   "outputs": [
    {
     "name": "stderr",
     "output_type": "stream",
     "text": [
      "2024-02-03 16:29:02.343443: W external/local_tsl/tsl/framework/cpu_allocator_impl.cc:83] Allocation of 188160000 exceeds 10% of free system memory.\n",
      "2024-02-03 16:29:03.774078: W external/local_tsl/tsl/framework/cpu_allocator_impl.cc:83] Allocation of 188160000 exceeds 10% of free system memory.\n"
     ]
    },
    {
     "name": "stdout",
     "output_type": "stream",
     "text": [
      "Finished 1 epochs\n",
      "  loss: 0.217\n",
      "  time: 112.84 seconds\n",
      "Finished 2 epochs\n",
      "  loss: 0.184\n",
      "  time: 120.16 seconds\n"
     ]
    },
    {
     "ename": "KeyboardInterrupt",
     "evalue": "",
     "output_type": "error",
     "traceback": [
      "\u001b[0;31m---------------------------------------------------------------------------\u001b[0m",
      "\u001b[0;31mKeyboardInterrupt\u001b[0m                         Traceback (most recent call last)",
      "Cell \u001b[0;32mIn [12], line 11\u001b[0m\n\u001b[1;32m      9\u001b[0m \u001b[38;5;28;01mfor\u001b[39;00m i \u001b[38;5;129;01min\u001b[39;00m \u001b[38;5;28mrange\u001b[39m(NUM_EPOCHS):\n\u001b[1;32m     10\u001b[0m     \u001b[38;5;28;01mfor\u001b[39;00m x,y \u001b[38;5;129;01min\u001b[39;00m train_ds:\n\u001b[0;32m---> 11\u001b[0m         result \u001b[38;5;241m=\u001b[39m \u001b[43mm\u001b[49m\u001b[38;5;241;43m.\u001b[39;49m\u001b[43mtrain\u001b[49m\u001b[43m(\u001b[49m\u001b[43mx\u001b[49m\u001b[43m,\u001b[49m\u001b[43m \u001b[49m\u001b[43my\u001b[49m\u001b[43m)\u001b[49m\n\u001b[1;32m     13\u001b[0m     losses[i] \u001b[38;5;241m=\u001b[39m result[\u001b[38;5;124m'\u001b[39m\u001b[38;5;124mloss\u001b[39m\u001b[38;5;124m'\u001b[39m]\n\u001b[1;32m     14\u001b[0m     \u001b[38;5;28;01mif\u001b[39;00m (i \u001b[38;5;241m+\u001b[39m \u001b[38;5;241m1\u001b[39m) \u001b[38;5;241m%\u001b[39m (NUM_EPOCHS\u001b[38;5;241m/\u001b[39m\u001b[38;5;241m10\u001b[39m) \u001b[38;5;241m==\u001b[39m \u001b[38;5;241m0\u001b[39m:\n",
      "File \u001b[0;32m~/.local/lib/python3.11/site-packages/tensorflow/python/util/traceback_utils.py:150\u001b[0m, in \u001b[0;36mfilter_traceback.<locals>.error_handler\u001b[0;34m(*args, **kwargs)\u001b[0m\n\u001b[1;32m    148\u001b[0m filtered_tb \u001b[38;5;241m=\u001b[39m \u001b[38;5;28;01mNone\u001b[39;00m\n\u001b[1;32m    149\u001b[0m \u001b[38;5;28;01mtry\u001b[39;00m:\n\u001b[0;32m--> 150\u001b[0m   \u001b[38;5;28;01mreturn\u001b[39;00m \u001b[43mfn\u001b[49m\u001b[43m(\u001b[49m\u001b[38;5;241;43m*\u001b[39;49m\u001b[43margs\u001b[49m\u001b[43m,\u001b[49m\u001b[43m \u001b[49m\u001b[38;5;241;43m*\u001b[39;49m\u001b[38;5;241;43m*\u001b[39;49m\u001b[43mkwargs\u001b[49m\u001b[43m)\u001b[49m\n\u001b[1;32m    151\u001b[0m \u001b[38;5;28;01mexcept\u001b[39;00m \u001b[38;5;167;01mException\u001b[39;00m \u001b[38;5;28;01mas\u001b[39;00m e:\n\u001b[1;32m    152\u001b[0m   filtered_tb \u001b[38;5;241m=\u001b[39m _process_traceback_frames(e\u001b[38;5;241m.\u001b[39m__traceback__)\n",
      "File \u001b[0;32m~/.local/lib/python3.11/site-packages/tensorflow/python/eager/polymorphic_function/polymorphic_function.py:832\u001b[0m, in \u001b[0;36mFunction.__call__\u001b[0;34m(self, *args, **kwds)\u001b[0m\n\u001b[1;32m    829\u001b[0m compiler \u001b[38;5;241m=\u001b[39m \u001b[38;5;124m\"\u001b[39m\u001b[38;5;124mxla\u001b[39m\u001b[38;5;124m\"\u001b[39m \u001b[38;5;28;01mif\u001b[39;00m \u001b[38;5;28mself\u001b[39m\u001b[38;5;241m.\u001b[39m_jit_compile \u001b[38;5;28;01melse\u001b[39;00m \u001b[38;5;124m\"\u001b[39m\u001b[38;5;124mnonXla\u001b[39m\u001b[38;5;124m\"\u001b[39m\n\u001b[1;32m    831\u001b[0m \u001b[38;5;28;01mwith\u001b[39;00m OptionalXlaContext(\u001b[38;5;28mself\u001b[39m\u001b[38;5;241m.\u001b[39m_jit_compile):\n\u001b[0;32m--> 832\u001b[0m   result \u001b[38;5;241m=\u001b[39m \u001b[38;5;28;43mself\u001b[39;49m\u001b[38;5;241;43m.\u001b[39;49m\u001b[43m_call\u001b[49m\u001b[43m(\u001b[49m\u001b[38;5;241;43m*\u001b[39;49m\u001b[43margs\u001b[49m\u001b[43m,\u001b[49m\u001b[43m \u001b[49m\u001b[38;5;241;43m*\u001b[39;49m\u001b[38;5;241;43m*\u001b[39;49m\u001b[43mkwds\u001b[49m\u001b[43m)\u001b[49m\n\u001b[1;32m    834\u001b[0m new_tracing_count \u001b[38;5;241m=\u001b[39m \u001b[38;5;28mself\u001b[39m\u001b[38;5;241m.\u001b[39mexperimental_get_tracing_count()\n\u001b[1;32m    835\u001b[0m without_tracing \u001b[38;5;241m=\u001b[39m (tracing_count \u001b[38;5;241m==\u001b[39m new_tracing_count)\n",
      "File \u001b[0;32m~/.local/lib/python3.11/site-packages/tensorflow/python/eager/polymorphic_function/polymorphic_function.py:868\u001b[0m, in \u001b[0;36mFunction._call\u001b[0;34m(self, *args, **kwds)\u001b[0m\n\u001b[1;32m    865\u001b[0m   \u001b[38;5;28mself\u001b[39m\u001b[38;5;241m.\u001b[39m_lock\u001b[38;5;241m.\u001b[39mrelease()\n\u001b[1;32m    866\u001b[0m   \u001b[38;5;66;03m# In this case we have created variables on the first call, so we run the\u001b[39;00m\n\u001b[1;32m    867\u001b[0m   \u001b[38;5;66;03m# defunned version which is guaranteed to never create variables.\u001b[39;00m\n\u001b[0;32m--> 868\u001b[0m   \u001b[38;5;28;01mreturn\u001b[39;00m \u001b[43mtracing_compilation\u001b[49m\u001b[38;5;241;43m.\u001b[39;49m\u001b[43mcall_function\u001b[49m\u001b[43m(\u001b[49m\n\u001b[1;32m    869\u001b[0m \u001b[43m      \u001b[49m\u001b[43margs\u001b[49m\u001b[43m,\u001b[49m\u001b[43m \u001b[49m\u001b[43mkwds\u001b[49m\u001b[43m,\u001b[49m\u001b[43m \u001b[49m\u001b[38;5;28;43mself\u001b[39;49m\u001b[38;5;241;43m.\u001b[39;49m\u001b[43m_no_variable_creation_config\u001b[49m\n\u001b[1;32m    870\u001b[0m \u001b[43m  \u001b[49m\u001b[43m)\u001b[49m\n\u001b[1;32m    871\u001b[0m \u001b[38;5;28;01melif\u001b[39;00m \u001b[38;5;28mself\u001b[39m\u001b[38;5;241m.\u001b[39m_variable_creation_config \u001b[38;5;129;01mis\u001b[39;00m \u001b[38;5;129;01mnot\u001b[39;00m \u001b[38;5;28;01mNone\u001b[39;00m:\n\u001b[1;32m    872\u001b[0m   \u001b[38;5;66;03m# Release the lock early so that multiple threads can perform the call\u001b[39;00m\n\u001b[1;32m    873\u001b[0m   \u001b[38;5;66;03m# in parallel.\u001b[39;00m\n\u001b[1;32m    874\u001b[0m   \u001b[38;5;28mself\u001b[39m\u001b[38;5;241m.\u001b[39m_lock\u001b[38;5;241m.\u001b[39mrelease()\n",
      "File \u001b[0;32m~/.local/lib/python3.11/site-packages/tensorflow/python/eager/polymorphic_function/tracing_compilation.py:139\u001b[0m, in \u001b[0;36mcall_function\u001b[0;34m(args, kwargs, tracing_options)\u001b[0m\n\u001b[1;32m    137\u001b[0m bound_args \u001b[38;5;241m=\u001b[39m function\u001b[38;5;241m.\u001b[39mfunction_type\u001b[38;5;241m.\u001b[39mbind(\u001b[38;5;241m*\u001b[39margs, \u001b[38;5;241m*\u001b[39m\u001b[38;5;241m*\u001b[39mkwargs)\n\u001b[1;32m    138\u001b[0m flat_inputs \u001b[38;5;241m=\u001b[39m function\u001b[38;5;241m.\u001b[39mfunction_type\u001b[38;5;241m.\u001b[39munpack_inputs(bound_args)\n\u001b[0;32m--> 139\u001b[0m \u001b[38;5;28;01mreturn\u001b[39;00m \u001b[43mfunction\u001b[49m\u001b[38;5;241;43m.\u001b[39;49m\u001b[43m_call_flat\u001b[49m\u001b[43m(\u001b[49m\u001b[43m  \u001b[49m\u001b[38;5;66;43;03m# pylint: disable=protected-access\u001b[39;49;00m\n\u001b[1;32m    140\u001b[0m \u001b[43m    \u001b[49m\u001b[43mflat_inputs\u001b[49m\u001b[43m,\u001b[49m\u001b[43m \u001b[49m\u001b[43mcaptured_inputs\u001b[49m\u001b[38;5;241;43m=\u001b[39;49m\u001b[43mfunction\u001b[49m\u001b[38;5;241;43m.\u001b[39;49m\u001b[43mcaptured_inputs\u001b[49m\n\u001b[1;32m    141\u001b[0m \u001b[43m\u001b[49m\u001b[43m)\u001b[49m\n",
      "File \u001b[0;32m~/.local/lib/python3.11/site-packages/tensorflow/python/eager/polymorphic_function/concrete_function.py:1323\u001b[0m, in \u001b[0;36mConcreteFunction._call_flat\u001b[0;34m(self, tensor_inputs, captured_inputs)\u001b[0m\n\u001b[1;32m   1319\u001b[0m possible_gradient_type \u001b[38;5;241m=\u001b[39m gradients_util\u001b[38;5;241m.\u001b[39mPossibleTapeGradientTypes(args)\n\u001b[1;32m   1320\u001b[0m \u001b[38;5;28;01mif\u001b[39;00m (possible_gradient_type \u001b[38;5;241m==\u001b[39m gradients_util\u001b[38;5;241m.\u001b[39mPOSSIBLE_GRADIENT_TYPES_NONE\n\u001b[1;32m   1321\u001b[0m     \u001b[38;5;129;01mand\u001b[39;00m executing_eagerly):\n\u001b[1;32m   1322\u001b[0m   \u001b[38;5;66;03m# No tape is watching; skip to running the function.\u001b[39;00m\n\u001b[0;32m-> 1323\u001b[0m   \u001b[38;5;28;01mreturn\u001b[39;00m \u001b[38;5;28;43mself\u001b[39;49m\u001b[38;5;241;43m.\u001b[39;49m\u001b[43m_inference_function\u001b[49m\u001b[38;5;241;43m.\u001b[39;49m\u001b[43mcall_preflattened\u001b[49m\u001b[43m(\u001b[49m\u001b[43margs\u001b[49m\u001b[43m)\u001b[49m\n\u001b[1;32m   1324\u001b[0m forward_backward \u001b[38;5;241m=\u001b[39m \u001b[38;5;28mself\u001b[39m\u001b[38;5;241m.\u001b[39m_select_forward_and_backward_functions(\n\u001b[1;32m   1325\u001b[0m     args,\n\u001b[1;32m   1326\u001b[0m     possible_gradient_type,\n\u001b[1;32m   1327\u001b[0m     executing_eagerly)\n\u001b[1;32m   1328\u001b[0m forward_function, args_with_tangents \u001b[38;5;241m=\u001b[39m forward_backward\u001b[38;5;241m.\u001b[39mforward()\n",
      "File \u001b[0;32m~/.local/lib/python3.11/site-packages/tensorflow/python/eager/polymorphic_function/atomic_function.py:216\u001b[0m, in \u001b[0;36mAtomicFunction.call_preflattened\u001b[0;34m(self, args)\u001b[0m\n\u001b[1;32m    214\u001b[0m \u001b[38;5;28;01mdef\u001b[39;00m \u001b[38;5;21mcall_preflattened\u001b[39m(\u001b[38;5;28mself\u001b[39m, args: Sequence[core\u001b[38;5;241m.\u001b[39mTensor]) \u001b[38;5;241m-\u001b[39m\u001b[38;5;241m>\u001b[39m Any:\n\u001b[1;32m    215\u001b[0m \u001b[38;5;250m  \u001b[39m\u001b[38;5;124;03m\"\"\"Calls with flattened tensor inputs and returns the structured output.\"\"\"\u001b[39;00m\n\u001b[0;32m--> 216\u001b[0m   flat_outputs \u001b[38;5;241m=\u001b[39m \u001b[38;5;28;43mself\u001b[39;49m\u001b[38;5;241;43m.\u001b[39;49m\u001b[43mcall_flat\u001b[49m\u001b[43m(\u001b[49m\u001b[38;5;241;43m*\u001b[39;49m\u001b[43margs\u001b[49m\u001b[43m)\u001b[49m\n\u001b[1;32m    217\u001b[0m   \u001b[38;5;28;01mreturn\u001b[39;00m \u001b[38;5;28mself\u001b[39m\u001b[38;5;241m.\u001b[39mfunction_type\u001b[38;5;241m.\u001b[39mpack_output(flat_outputs)\n",
      "File \u001b[0;32m~/.local/lib/python3.11/site-packages/tensorflow/python/eager/polymorphic_function/atomic_function.py:251\u001b[0m, in \u001b[0;36mAtomicFunction.call_flat\u001b[0;34m(self, *args)\u001b[0m\n\u001b[1;32m    249\u001b[0m \u001b[38;5;28;01mwith\u001b[39;00m record\u001b[38;5;241m.\u001b[39mstop_recording():\n\u001b[1;32m    250\u001b[0m   \u001b[38;5;28;01mif\u001b[39;00m \u001b[38;5;28mself\u001b[39m\u001b[38;5;241m.\u001b[39m_bound_context\u001b[38;5;241m.\u001b[39mexecuting_eagerly():\n\u001b[0;32m--> 251\u001b[0m     outputs \u001b[38;5;241m=\u001b[39m \u001b[38;5;28;43mself\u001b[39;49m\u001b[38;5;241;43m.\u001b[39;49m\u001b[43m_bound_context\u001b[49m\u001b[38;5;241;43m.\u001b[39;49m\u001b[43mcall_function\u001b[49m\u001b[43m(\u001b[49m\n\u001b[1;32m    252\u001b[0m \u001b[43m        \u001b[49m\u001b[38;5;28;43mself\u001b[39;49m\u001b[38;5;241;43m.\u001b[39;49m\u001b[43mname\u001b[49m\u001b[43m,\u001b[49m\n\u001b[1;32m    253\u001b[0m \u001b[43m        \u001b[49m\u001b[38;5;28;43mlist\u001b[39;49m\u001b[43m(\u001b[49m\u001b[43margs\u001b[49m\u001b[43m)\u001b[49m\u001b[43m,\u001b[49m\n\u001b[1;32m    254\u001b[0m \u001b[43m        \u001b[49m\u001b[38;5;28;43mlen\u001b[39;49m\u001b[43m(\u001b[49m\u001b[38;5;28;43mself\u001b[39;49m\u001b[38;5;241;43m.\u001b[39;49m\u001b[43mfunction_type\u001b[49m\u001b[38;5;241;43m.\u001b[39;49m\u001b[43mflat_outputs\u001b[49m\u001b[43m)\u001b[49m\u001b[43m,\u001b[49m\n\u001b[1;32m    255\u001b[0m \u001b[43m    \u001b[49m\u001b[43m)\u001b[49m\n\u001b[1;32m    256\u001b[0m   \u001b[38;5;28;01melse\u001b[39;00m:\n\u001b[1;32m    257\u001b[0m     outputs \u001b[38;5;241m=\u001b[39m make_call_op_in_graph(\n\u001b[1;32m    258\u001b[0m         \u001b[38;5;28mself\u001b[39m,\n\u001b[1;32m    259\u001b[0m         \u001b[38;5;28mlist\u001b[39m(args),\n\u001b[1;32m    260\u001b[0m         \u001b[38;5;28mself\u001b[39m\u001b[38;5;241m.\u001b[39m_bound_context\u001b[38;5;241m.\u001b[39mfunction_call_options\u001b[38;5;241m.\u001b[39mas_attrs(),\n\u001b[1;32m    261\u001b[0m     )\n",
      "File \u001b[0;32m~/.local/lib/python3.11/site-packages/tensorflow/python/eager/context.py:1486\u001b[0m, in \u001b[0;36mContext.call_function\u001b[0;34m(self, name, tensor_inputs, num_outputs)\u001b[0m\n\u001b[1;32m   1484\u001b[0m cancellation_context \u001b[38;5;241m=\u001b[39m cancellation\u001b[38;5;241m.\u001b[39mcontext()\n\u001b[1;32m   1485\u001b[0m \u001b[38;5;28;01mif\u001b[39;00m cancellation_context \u001b[38;5;129;01mis\u001b[39;00m \u001b[38;5;28;01mNone\u001b[39;00m:\n\u001b[0;32m-> 1486\u001b[0m   outputs \u001b[38;5;241m=\u001b[39m \u001b[43mexecute\u001b[49m\u001b[38;5;241;43m.\u001b[39;49m\u001b[43mexecute\u001b[49m\u001b[43m(\u001b[49m\n\u001b[1;32m   1487\u001b[0m \u001b[43m      \u001b[49m\u001b[43mname\u001b[49m\u001b[38;5;241;43m.\u001b[39;49m\u001b[43mdecode\u001b[49m\u001b[43m(\u001b[49m\u001b[38;5;124;43m\"\u001b[39;49m\u001b[38;5;124;43mutf-8\u001b[39;49m\u001b[38;5;124;43m\"\u001b[39;49m\u001b[43m)\u001b[49m\u001b[43m,\u001b[49m\n\u001b[1;32m   1488\u001b[0m \u001b[43m      \u001b[49m\u001b[43mnum_outputs\u001b[49m\u001b[38;5;241;43m=\u001b[39;49m\u001b[43mnum_outputs\u001b[49m\u001b[43m,\u001b[49m\n\u001b[1;32m   1489\u001b[0m \u001b[43m      \u001b[49m\u001b[43minputs\u001b[49m\u001b[38;5;241;43m=\u001b[39;49m\u001b[43mtensor_inputs\u001b[49m\u001b[43m,\u001b[49m\n\u001b[1;32m   1490\u001b[0m \u001b[43m      \u001b[49m\u001b[43mattrs\u001b[49m\u001b[38;5;241;43m=\u001b[39;49m\u001b[43mattrs\u001b[49m\u001b[43m,\u001b[49m\n\u001b[1;32m   1491\u001b[0m \u001b[43m      \u001b[49m\u001b[43mctx\u001b[49m\u001b[38;5;241;43m=\u001b[39;49m\u001b[38;5;28;43mself\u001b[39;49m\u001b[43m,\u001b[49m\n\u001b[1;32m   1492\u001b[0m \u001b[43m  \u001b[49m\u001b[43m)\u001b[49m\n\u001b[1;32m   1493\u001b[0m \u001b[38;5;28;01melse\u001b[39;00m:\n\u001b[1;32m   1494\u001b[0m   outputs \u001b[38;5;241m=\u001b[39m execute\u001b[38;5;241m.\u001b[39mexecute_with_cancellation(\n\u001b[1;32m   1495\u001b[0m       name\u001b[38;5;241m.\u001b[39mdecode(\u001b[38;5;124m\"\u001b[39m\u001b[38;5;124mutf-8\u001b[39m\u001b[38;5;124m\"\u001b[39m),\n\u001b[1;32m   1496\u001b[0m       num_outputs\u001b[38;5;241m=\u001b[39mnum_outputs,\n\u001b[0;32m   (...)\u001b[0m\n\u001b[1;32m   1500\u001b[0m       cancellation_manager\u001b[38;5;241m=\u001b[39mcancellation_context,\n\u001b[1;32m   1501\u001b[0m   )\n",
      "File \u001b[0;32m~/.local/lib/python3.11/site-packages/tensorflow/python/eager/execute.py:53\u001b[0m, in \u001b[0;36mquick_execute\u001b[0;34m(op_name, num_outputs, inputs, attrs, ctx, name)\u001b[0m\n\u001b[1;32m     51\u001b[0m \u001b[38;5;28;01mtry\u001b[39;00m:\n\u001b[1;32m     52\u001b[0m   ctx\u001b[38;5;241m.\u001b[39mensure_initialized()\n\u001b[0;32m---> 53\u001b[0m   tensors \u001b[38;5;241m=\u001b[39m \u001b[43mpywrap_tfe\u001b[49m\u001b[38;5;241;43m.\u001b[39;49m\u001b[43mTFE_Py_Execute\u001b[49m\u001b[43m(\u001b[49m\u001b[43mctx\u001b[49m\u001b[38;5;241;43m.\u001b[39;49m\u001b[43m_handle\u001b[49m\u001b[43m,\u001b[49m\u001b[43m \u001b[49m\u001b[43mdevice_name\u001b[49m\u001b[43m,\u001b[49m\u001b[43m \u001b[49m\u001b[43mop_name\u001b[49m\u001b[43m,\u001b[49m\n\u001b[1;32m     54\u001b[0m \u001b[43m                                      \u001b[49m\u001b[43minputs\u001b[49m\u001b[43m,\u001b[49m\u001b[43m \u001b[49m\u001b[43mattrs\u001b[49m\u001b[43m,\u001b[49m\u001b[43m \u001b[49m\u001b[43mnum_outputs\u001b[49m\u001b[43m)\u001b[49m\n\u001b[1;32m     55\u001b[0m \u001b[38;5;28;01mexcept\u001b[39;00m core\u001b[38;5;241m.\u001b[39m_NotOkStatusException \u001b[38;5;28;01mas\u001b[39;00m e:\n\u001b[1;32m     56\u001b[0m   \u001b[38;5;28;01mif\u001b[39;00m name \u001b[38;5;129;01mis\u001b[39;00m \u001b[38;5;129;01mnot\u001b[39;00m \u001b[38;5;28;01mNone\u001b[39;00m:\n",
      "\u001b[0;31mKeyboardInterrupt\u001b[0m: "
     ]
    }
   ],
   "source": [
    "import time\n",
    "epochs = np.arange(1, NUM_EPOCHS + 1, 1)\n",
    "losses = np.zeros([NUM_EPOCHS])\n",
    "m = Model()\n",
    "\n",
    "train_ds = tf.data.Dataset.from_tensor_slices((train_images, train_labels))\n",
    "train_ds = train_ds.batch(BATCH_SIZE)\n",
    "start = time.time()\n",
    "for i in range(NUM_EPOCHS):\n",
    "    for x,y in train_ds:\n",
    "        result = m.train(x, y)\n",
    "\n",
    "    losses[i] = result['loss']\n",
    "    if (i + 1) % (NUM_EPOCHS/10) == 0:\n",
    "        end = time.time()\n",
    "        print(f\"Finished {i+1} epochs\")\n",
    "        print(f\"  loss: {losses[i]:.3f}\")\n",
    "        print(f\"  time: {(end - start):.2f} seconds\")\n",
    "        start = time.time()\n",
    "\n",
    "# Save the trained weights to a checkpoint.\n",
    "m.save('/tmp/model.ckpt')"
   ]
  },
  {
   "cell_type": "code",
   "execution_count": 13,
   "metadata": {
    "colab": {
     "base_uri": "https://localhost:8080/",
     "height": 449
    },
    "id": "Lp2nkZj7rJXm",
    "outputId": "e098aeb8-d4bf-44b7-866a-d33a277c7290",
    "scrolled": false
   },
   "outputs": [
    {
     "data": {
      "image/png": "[encoded data removed]",
      "text/plain": [
       "<Figure size 640x480 with 1 Axes>"
      ]
     },
     "metadata": {},
     "output_type": "display_data"
    }
   ],
   "source": [
    "plt.plot(epochs, losses, label='Pre-training')\n",
    "plt.ylim([0, max(plt.ylim())])\n",
    "plt.xlabel('Epoch')\n",
    "plt.ylabel('Loss [Cross Entropy]')\n",
    "plt.legend();"
   ]
  },
  {
   "cell_type": "markdown",
   "metadata": {
    "id": "LaMMDLLewAaX"
   },
   "source": [
    "Note: You should complete initial training of your model before converting it to TensorFlow Lite format, so that the model has an initial set of weights, and is able to perform reasonable inferences *before* you start collecting data and conducting training runs on the device."
   ]
  },
  {
   "cell_type": "markdown",
   "metadata": {
    "id": "A8YUTIvzMVw5"
   },
   "source": [
    "## Convert model to TensorFlow Lite format\n",
    "\n",
    "After you have extended your TensorFlow model to enable additional functions for on-device training and completed initial training of the model, you can convert it to TensorFlow Lite format. The following code converts and saves your model to that format, including the set of signatures that you use with the TensorFlow Lite model on a device: `train, infer, save, restore`."
   ]
  },
  {
   "cell_type": "code",
   "execution_count": 14,
   "metadata": {
    "colab": {
     "base_uri": "https://localhost:8080/"
    },
    "id": "WwsDUEKFMYtq",
    "outputId": "fb147320-afaa-403a-9e92-adb8a966cfc3",
    "scrolled": true
   },
   "outputs": [
    {
     "name": "stdout",
     "output_type": "stream",
     "text": [
      "INFO:tensorflow:Assets written to: saved_model/assets\n"
     ]
    },
    {
     "name": "stderr",
     "output_type": "stream",
     "text": [
      "INFO:tensorflow:Assets written to: saved_model/assets\n",
      "WARNING:absl:Importing a function (__inference_internal_grad_fn_122752) with ops with unsaved custom gradients. Will likely fail if a gradient is requested.\n",
      "WARNING:absl:Importing a function (__inference_internal_grad_fn_122791) with ops with unsaved custom gradients. Will likely fail if a gradient is requested.\n",
      "2024-02-03 16:34:08.667715: W tensorflow/compiler/mlir/lite/python/tf_tfl_flatbuffer_helpers.cc:378] Ignored output_format.\n",
      "2024-02-03 16:34:08.668485: W tensorflow/compiler/mlir/lite/python/tf_tfl_flatbuffer_helpers.cc:381] Ignored drop_control_dependency.\n",
      "2024-02-03 16:34:08.731367: I tensorflow/cc/saved_model/reader.cc:83] Reading SavedModel from: saved_model\n",
      "2024-02-03 16:34:08.759338: I tensorflow/cc/saved_model/reader.cc:51] Reading meta graph with tags { serve }\n",
      "2024-02-03 16:34:08.759542: I tensorflow/cc/saved_model/reader.cc:146] Reading SavedModel debug info (if present) from: saved_model\n",
      "2024-02-03 16:34:08.809716: I tensorflow/compiler/mlir/mlir_graph_optimization_pass.cc:388] MLIR V1 optimization pass is not enabled\n",
      "2024-02-03 16:34:08.819328: I tensorflow/cc/saved_model/loader.cc:233] Restoring SavedModel bundle.\n",
      "2024-02-03 16:34:09.090385: I tensorflow/cc/saved_model/loader.cc:217] Running initialization op on SavedModel bundle at path: saved_model\n",
      "2024-02-03 16:34:09.232142: I tensorflow/cc/saved_model/loader.cc:316] SavedModel load for tags { serve }; Status: success: OK. Took 500697 microseconds.\n",
      "2024-02-03 16:34:09.727163: I tensorflow/compiler/mlir/tensorflow/utils/dump_mlir_util.cc:269] disabling MLIR crash reproducer, set env var `MLIR_CRASH_REPRODUCER_DIRECTORY` to enable.\n",
      "2024-02-03 16:34:10.904382: E tensorflow/compiler/mlir/lite/stablehlo/transforms/op_stat_pass.cc:119] Unsupported data type.\n",
      "2024-02-03 16:34:10.904620: E tensorflow/compiler/mlir/lite/stablehlo/transforms/op_stat_pass.cc:119] Unsupported data type.\n",
      "2024-02-03 16:34:10.904666: E tensorflow/compiler/mlir/lite/stablehlo/transforms/op_stat_pass.cc:119] Unsupported data type.\n",
      "2024-02-03 16:34:10.904702: E tensorflow/compiler/mlir/lite/stablehlo/transforms/op_stat_pass.cc:119] Unsupported data type.\n",
      "2024-02-03 16:34:10.904735: E tensorflow/compiler/mlir/lite/stablehlo/transforms/op_stat_pass.cc:119] Unsupported data type.\n",
      "2024-02-03 16:34:10.904769: E tensorflow/compiler/mlir/lite/stablehlo/transforms/op_stat_pass.cc:119] Unsupported data type.\n",
      "2024-02-03 16:34:10.904802: E tensorflow/compiler/mlir/lite/stablehlo/transforms/op_stat_pass.cc:119] Unsupported data type.\n",
      "2024-02-03 16:34:10.904835: E tensorflow/compiler/mlir/lite/stablehlo/transforms/op_stat_pass.cc:119] Unsupported data type.\n",
      "2024-02-03 16:34:10.904868: E tensorflow/compiler/mlir/lite/stablehlo/transforms/op_stat_pass.cc:119] Unsupported data type.\n",
      "2024-02-03 16:34:10.904900: E tensorflow/compiler/mlir/lite/stablehlo/transforms/op_stat_pass.cc:119] Unsupported data type.\n",
      "2024-02-03 16:34:10.904932: E tensorflow/compiler/mlir/lite/stablehlo/transforms/op_stat_pass.cc:119] Unsupported data type.\n",
      "2024-02-03 16:34:10.904964: E tensorflow/compiler/mlir/lite/stablehlo/transforms/op_stat_pass.cc:119] Unsupported data type.\n",
      "2024-02-03 16:34:10.905051: E tensorflow/compiler/mlir/lite/stablehlo/transforms/op_stat_pass.cc:119] Unsupported data type.\n",
      "2024-02-03 16:34:10.905117: E tensorflow/compiler/mlir/lite/stablehlo/transforms/op_stat_pass.cc:119] Unsupported data type.\n",
      "2024-02-03 16:34:10.905156: E tensorflow/compiler/mlir/lite/stablehlo/transforms/op_stat_pass.cc:119] Unsupported data type.\n",
      "2024-02-03 16:34:10.905190: E tensorflow/compiler/mlir/lite/stablehlo/transforms/op_stat_pass.cc:119] Unsupported data type.\n",
      "2024-02-03 16:34:10.905242: E tensorflow/compiler/mlir/lite/stablehlo/transforms/op_stat_pass.cc:119] Unsupported data type.\n",
      "2024-02-03 16:34:10.905281: E tensorflow/compiler/mlir/lite/stablehlo/transforms/op_stat_pass.cc:119] Unsupported data type.\n",
      "2024-02-03 16:34:10.905316: E tensorflow/compiler/mlir/lite/stablehlo/transforms/op_stat_pass.cc:119] Unsupported data type.\n",
      "2024-02-03 16:34:10.905430: E tensorflow/compiler/mlir/lite/stablehlo/transforms/op_stat_pass.cc:119] Unsupported data type.\n",
      "2024-02-03 16:34:10.905477: E tensorflow/compiler/mlir/lite/stablehlo/transforms/op_stat_pass.cc:119] Unsupported data type.\n",
      "2024-02-03 16:34:10.905513: E tensorflow/compiler/mlir/lite/stablehlo/transforms/op_stat_pass.cc:119] Unsupported data type.\n",
      "2024-02-03 16:34:10.905547: E tensorflow/compiler/mlir/lite/stablehlo/transforms/op_stat_pass.cc:119] Unsupported data type.\n",
      "2024-02-03 16:34:10.905579: E tensorflow/compiler/mlir/lite/stablehlo/transforms/op_stat_pass.cc:119] Unsupported data type.\n",
      "2024-02-03 16:34:10.905612: E tensorflow/compiler/mlir/lite/stablehlo/transforms/op_stat_pass.cc:119] Unsupported data type.\n",
      "2024-02-03 16:34:10.905662: E tensorflow/compiler/mlir/lite/stablehlo/transforms/op_stat_pass.cc:119] Unsupported data type.\n",
      "2024-02-03 16:34:10.905698: E tensorflow/compiler/mlir/lite/stablehlo/transforms/op_stat_pass.cc:119] Unsupported data type.\n",
      "2024-02-03 16:34:10.905732: E tensorflow/compiler/mlir/lite/stablehlo/transforms/op_stat_pass.cc:119] Unsupported data type.\n",
      "2024-02-03 16:34:10.905764: E tensorflow/compiler/mlir/lite/stablehlo/transforms/op_stat_pass.cc:119] Unsupported data type.\n",
      "2024-02-03 16:34:10.905796: E tensorflow/compiler/mlir/lite/stablehlo/transforms/op_stat_pass.cc:119] Unsupported data type.\n",
      "2024-02-03 16:34:10.905829: E tensorflow/compiler/mlir/lite/stablehlo/transforms/op_stat_pass.cc:119] Unsupported data type.\n",
      "2024-02-03 16:34:10.905883: E tensorflow/compiler/mlir/lite/stablehlo/transforms/op_stat_pass.cc:119] Unsupported data type.\n",
      "2024-02-03 16:34:10.905919: E tensorflow/compiler/mlir/lite/stablehlo/transforms/op_stat_pass.cc:119] Unsupported data type.\n",
      "2024-02-03 16:34:10.905952: E tensorflow/compiler/mlir/lite/stablehlo/transforms/op_stat_pass.cc:119] Unsupported data type.\n",
      "2024-02-03 16:34:10.906043: E tensorflow/compiler/mlir/lite/stablehlo/transforms/op_stat_pass.cc:119] Unsupported data type.\n",
      "2024-02-03 16:34:10.906085: E tensorflow/compiler/mlir/lite/stablehlo/transforms/op_stat_pass.cc:119] Unsupported data type.\n",
      "2024-02-03 16:34:10.906119: E tensorflow/compiler/mlir/lite/stablehlo/transforms/op_stat_pass.cc:119] Unsupported data type.\n",
      "2024-02-03 16:34:10.906152: E tensorflow/compiler/mlir/lite/stablehlo/transforms/op_stat_pass.cc:119] Unsupported data type.\n",
      "2024-02-03 16:34:10.906261: E tensorflow/compiler/mlir/lite/stablehlo/transforms/op_stat_pass.cc:119] Unsupported data type.\n",
      "2024-02-03 16:34:10.906324: E tensorflow/compiler/mlir/lite/stablehlo/transforms/op_stat_pass.cc:119] Unsupported data type.\n",
      "2024-02-03 16:34:10.906369: E tensorflow/compiler/mlir/lite/stablehlo/transforms/op_stat_pass.cc:119] Unsupported data type.\n",
      "2024-02-03 16:34:10.906411: E tensorflow/compiler/mlir/lite/stablehlo/transforms/op_stat_pass.cc:119] Unsupported data type.\n",
      "2024-02-03 16:34:10.906453: E tensorflow/compiler/mlir/lite/stablehlo/transforms/op_stat_pass.cc:119] Unsupported data type.\n",
      "2024-02-03 16:34:10.906559: E tensorflow/compiler/mlir/lite/stablehlo/transforms/op_stat_pass.cc:119] Unsupported data type.\n",
      "2024-02-03 16:34:10.906603: E tensorflow/compiler/mlir/lite/stablehlo/transforms/op_stat_pass.cc:119] Unsupported data type.\n",
      "2024-02-03 16:34:10.906645: E tensorflow/compiler/mlir/lite/stablehlo/transforms/op_stat_pass.cc:119] Unsupported data type.\n",
      "2024-02-03 16:34:10.906686: E tensorflow/compiler/mlir/lite/stablehlo/transforms/op_stat_pass.cc:119] Unsupported data type.\n",
      "2024-02-03 16:34:10.906726: E tensorflow/compiler/mlir/lite/stablehlo/transforms/op_stat_pass.cc:119] Unsupported data type.\n",
      "2024-02-03 16:34:10.906767: E tensorflow/compiler/mlir/lite/stablehlo/transforms/op_stat_pass.cc:119] Unsupported data type.\n",
      "2024-02-03 16:34:10.906807: E tensorflow/compiler/mlir/lite/stablehlo/transforms/op_stat_pass.cc:119] Unsupported data type.\n",
      "2024-02-03 16:34:10.906848: E tensorflow/compiler/mlir/lite/stablehlo/transforms/op_stat_pass.cc:119] Unsupported data type.\n",
      "Summary on the non-converted ops:\n",
      "---------------------------------\n",
      " * Accepted dialects: tfl, builtin, func\n",
      " * Non-Converted Ops: 60, Total Ops 297, % non-converted = 20.20 %\n",
      " * 50 ARITH ops, 9 TF ops, 1 TF_SAVED_MODEL ops\n",
      "\n",
      "- arith.constant:   50 occurrences  (: 7, i64: 2, f32: 19, i32: 22)\n",
      "\n",
      "\n",
      "\n",
      "- tf.Conv2DBackpropFilter:    2 occurrences  (f32: 2)\n",
      "- tf.Restore:    6 occurrences  (f32: 6)\n",
      "- tf.Save:    1 occurrences\n",
      "- tf_saved_model.session_initializer:    1 occurrences\n",
      "  (i64: 1, f32: 18)\n",
      "\n",
      "  (f32: 3)\n",
      "\n",
      "  (f32: 1)\n",
      "  (i32: 2)\n",
      "  (f32: 4)\n",
      "  (f32: 2)\n",
      "  (i1: 2)\n",
      "  (f32: 1)\n",
      "  (f32: 1)\n",
      "  (f32: 1)\n",
      "  (f32: 14)\n",
      "  (f32: 7)\n",
      "\n",
      "  (i32: 4)\n",
      "  (i64: 1, f32: 36)\n",
      "  (i32: 1)\n",
      "  (f32: 13)\n",
      "  (f32: 2)\n",
      "  (f32: 1)\n",
      "  (i32: 9)\n",
      "  (i32: 3)\n",
      "  (f32: 2)\n",
      "  (i32: 4)\n",
      "  (f32: 1)\n",
      "  (f32: 5)\n",
      "  (f32: 2)\n",
      "  (f32: 3)\n",
      "  (f32: 1)\n",
      "  (: 44)\n",
      "2024-02-03 16:34:10.949521: W tensorflow/compiler/mlir/lite/flatbuffer_export.cc:2921] TFLite interpreter needs to link Flex delegate in order to run the model since it contains the following Select TFop(s):\n",
      "Flex ops: FlexConv2DBackpropFilter, FlexRestore, FlexSave\n",
      "Details:\n",
      "\ttf.Conv2DBackpropFilter(tensor<?x28x28x12xf32>, tensor<4xi32>, tensor<?x28x28x1xf32>) -> (tensor<2x2x12x1xf32>) : {data_format = \"NHWC\", device = \"\", dilations = [1, 1, 1, 1], explicit_paddings = [], padding = \"SAME\", strides = [1, 1, 1, 1], use_cudnn_on_gpu = true}\n",
      "\ttf.Conv2DBackpropFilter(tensor<?x28x28x1xf32>, tensor<4xi32>, tensor<?x28x28x12xf32>) -> (tensor<3x3x1x12xf32>) : {data_format = \"NHWC\", device = \"\", dilations = [1, 1, 1, 1], explicit_paddings = [], padding = \"SAME\", strides = [1, 1, 1, 1], use_cudnn_on_gpu = true}\n",
      "\ttf.Restore(tensor<!tf_type.string>, tensor<!tf_type.string>) -> (tensor<10xf32>) : {device = \"\", preferred_shard = -1 : i64}\n",
      "\ttf.Restore(tensor<!tf_type.string>, tensor<!tf_type.string>) -> (tensor<12xf32>) : {device = \"\", preferred_shard = -1 : i64}\n",
      "\ttf.Restore(tensor<!tf_type.string>, tensor<!tf_type.string>) -> (tensor<1xf32>) : {device = \"\", preferred_shard = -1 : i64}\n",
      "\ttf.Restore(tensor<!tf_type.string>, tensor<!tf_type.string>) -> (tensor<2x2x12x1xf32>) : {device = \"\", preferred_shard = -1 : i64}\n",
      "\ttf.Restore(tensor<!tf_type.string>, tensor<!tf_type.string>) -> (tensor<3x3x1x12xf32>) : {device = \"\", preferred_shard = -1 : i64}\n",
      "\ttf.Restore(tensor<!tf_type.string>, tensor<!tf_type.string>) -> (tensor<784x10xf32>) : {device = \"\", preferred_shard = -1 : i64}\n",
      "\ttf.Save(tensor<!tf_type.string>, tensor<6x!tf_type.string>, tensor<3x3x1x12xf32>, tensor<12xf32>, tensor<2x2x12x1xf32>, tensor<1xf32>, tensor<784x10xf32>, tensor<10xf32>) -> () : {device = \"\"}\n",
      "See instructions: https://www.tensorflow.org/lite/guide/ops_select\n"
     ]
    }
   ],
   "source": [
    "SAVED_MODEL_DIR = \"saved_model\"\n",
    "TFLITE_MODEL = 'model.tflite'\n",
    "\n",
    "tf.saved_model.save(\n",
    "    m,\n",
    "    SAVED_MODEL_DIR,\n",
    "    signatures={\n",
    "        'train':\n",
    "            m.train.get_concrete_function(),\n",
    "        'infer':\n",
    "            m.infer.get_concrete_function(),\n",
    "        'save':\n",
    "            m.save.get_concrete_function(),\n",
    "        'restore':\n",
    "            m.restore.get_concrete_function(),\n",
    "    })\n",
    "\n",
    "# Convert the model\n",
    "converter = tf.lite.TFLiteConverter.from_saved_model(SAVED_MODEL_DIR)\n",
    "converter.target_spec.supported_ops = [\n",
    "    tf.lite.OpsSet.TFLITE_BUILTINS,  # enable TensorFlow Lite ops.\n",
    "    tf.lite.OpsSet.SELECT_TF_OPS,  # enable TensorFlow ops.\n",
    "]\n",
    "converter.experimental_enable_resource_variables = True\n",
    "#converter._experimental_lower_tensor_list_ops = False\n",
    "tflite_model = converter.convert()"
   ]
  },
  {
   "cell_type": "code",
   "execution_count": 15,
   "metadata": {
    "id": "Ijh-Cw0otpVm",
    "scrolled": false
   },
   "outputs": [],
   "source": [
    "# Save the model.\n",
    "with open(TFLITE_MODEL, 'wb') as f:\n",
    "    f.write(tflite_model)"
   ]
  },
  {
   "cell_type": "markdown",
   "metadata": {
    "id": "GJSOtPISKSn2"
   },
   "source": [
    "### Setup the TensorFlow Lite signatures\n",
    "\n",
    "The TensorFlow Lite model you saved in the previous step contains several function signatures. You can access them through the `tf.lite.Interpreter` class and invoke each `restore`, `train`, `save`, and `infer` signature separately."
   ]
  },
  {
   "cell_type": "code",
   "execution_count": 16,
   "metadata": {
    "id": "qNX2vqXd2-HM",
    "scrolled": false
   },
   "outputs": [
    {
     "name": "stderr",
     "output_type": "stream",
     "text": [
      "INFO: Created TensorFlow Lite delegate for select TF ops.\n",
      "INFO: TfLiteFlexDelegate delegate: 0 nodes delegated out of 30 nodes with 0 partitions.\n",
      "\n",
      "INFO: Created TensorFlow Lite XNNPACK delegate for CPU.\n",
      "WARNING: Attempting to use a delegate that only supports static-sized tensors with a graph that has dynamic-sized tensors (tensor#25 is a dynamic-sized tensor).\n"
     ]
    }
   ],
   "source": [
    "# Load the model.\n",
    "interpreter = tf.lite.Interpreter(TFLITE_MODEL)\n",
    "interpreter.allocate_tensors()\n",
    "\n",
    "infer = interpreter.get_signature_runner(\"infer\")"
   ]
  },
  {
   "cell_type": "markdown",
   "metadata": {
    "id": "vTOM4alkteTO"
   },
   "source": [
    "Compare the output of the original model, and the converted lite model:"
   ]
  },
  {
   "cell_type": "code",
   "execution_count": 17,
   "metadata": {
    "id": "IDdaCmPEtE7P",
    "scrolled": false
   },
   "outputs": [],
   "source": [
    "logits_original = m.infer(x=train_images[:1])['logits'][0]\n",
    "logits_lite = infer(x=train_images[:1])['logits'][0]"
   ]
  },
  {
   "cell_type": "code",
   "execution_count": 18,
   "metadata": {
    "colab": {
     "base_uri": "https://localhost:8080/",
     "height": 472
    },
    "id": "IpoZ1nTMKGEZ",
    "outputId": "ca3d67f7-4944-4772-fc9c-2b1989385451",
    "scrolled": false
   },
   "outputs": [
    {
     "data": {
      "image/png": "[encoded data removed]",
      "text/plain": [
       "<Figure size 640x480 with 1 Axes>"
      ]
     },
     "metadata": {},
     "output_type": "display_data"
    }
   ],
   "source": [
    "#@title\n",
    "def compare_logits(logits):\n",
    "    width = 0.35\n",
    "    offset = width/2\n",
    "    assert len(logits)==2\n",
    "\n",
    "    keys = list(logits.keys())\n",
    "    plt.bar(x = np.arange(len(logits[keys[0]]))-offset,\n",
    "        height=logits[keys[0]], width=0.35, label=keys[0])\n",
    "    plt.bar(x = np.arange(len(logits[keys[1]]))+offset,\n",
    "        height=logits[keys[1]], width=0.35, label=keys[1])\n",
    "    plt.legend()\n",
    "    plt.grid(True)\n",
    "    plt.ylabel('Logit')\n",
    "    plt.xlabel('ClassID')\n",
    "\n",
    "    delta = np.sum(np.abs(logits[keys[0]] - logits[keys[1]]))\n",
    "    plt.title(f\"Total difference: {delta:.3g}\")\n",
    "\n",
    "compare_logits({'Original': logits_original, 'Lite': logits_lite})"
   ]
  },
  {
   "cell_type": "markdown",
   "metadata": {
    "id": "ARUb37Hqa0Az"
   },
   "source": [
    "Above, you can see that the behavior of the model is not changed by the conversion to TFLite."
   ]
  },
  {
   "cell_type": "markdown",
   "metadata": {
    "id": "7a5f73c8c5d6"
   },
   "source": [
    "## Retrain the model on a device\n",
    "\n",
    "After converting your model to TensorFlow Lite and deploying it with your app, you can retrain the model on a device using new data and the `train` signature method of your model. Each training run generates a new set of weights that you can save for re-use and further improvement of the model, as shown in the next section.\n",
    "\n",
    "Note: Since training tasks are resource intensive, you should consider performing them when users are not actively interacting with the device, and as a background process. Consider using the [WorkManager](https://developer.android.com/topic/libraries/architecture/workmanager) API to schedule model retraining as an asynchronous task.\n",
    "\n",
    "On Android, you can perform on-device training with TensorFlow Lite using either Java or C++ APIs. In Java, use the `Interpreter` class to load a model and drive model training tasks. The following example shows how to run the training procedure using the `runSignature` method:\n"
   ]
  },
  {
   "cell_type": "markdown",
   "metadata": {
    "id": "qvbqRxnNs4NG"
   },
   "source": [
    "```Java\n",
    "try (Interpreter interpreter = new Interpreter(modelBuffer)) {\n",
    "    int NUM_EPOCHS = 100;\n",
    "    int BATCH_SIZE = 100;\n",
    "    int IMG_HEIGHT = 28;\n",
    "    int IMG_WIDTH = 28;\n",
    "    int NUM_TRAININGS = 60000;\n",
    "    int NUM_BATCHES = NUM_TRAININGS / BATCH_SIZE;\n",
    "\n",
    "    List<FloatBuffer> trainImageBatches = new ArrayList<>(NUM_BATCHES);\n",
    "    List<FloatBuffer> trainLabelBatches = new ArrayList<>(NUM_BATCHES);\n",
    "\n",
    "    // Prepare training batches.\n",
    "    for (int i = 0; i < NUM_BATCHES; ++i) {\n",
    "        FloatBuffer trainImages = FloatBuffer.allocateDirect(BATCH_SIZE * IMG_HEIGHT * IMG_WIDTH).order(ByteOrder.nativeOrder());\n",
    "        FloatBuffer trainLabels = FloatBuffer.allocateDirect(BATCH_SIZE * 10).order(ByteOrder.nativeOrder());\n",
    "\n",
    "        // Fill the data values...\n",
    "        trainImageBatches.add(trainImages.rewind());\n",
    "        trainImageLabels.add(trainLabels.rewind());\n",
    "    }\n",
    "\n",
    "    // Run training for a few steps.\n",
    "    float[] losses = new float[NUM_EPOCHS];\n",
    "    for (int epoch = 0; epoch < NUM_EPOCHS; ++epoch) {\n",
    "        for (int batchIdx = 0; batchIdx < NUM_BATCHES; ++batchIdx) {\n",
    "            Map<String, Object> inputs = new HashMap<>();\n",
    "            inputs.put(\"x\", trainImageBatches.get(batchIdx));\n",
    "            inputs.put(\"y\", trainLabelBatches.get(batchIdx));\n",
    "\n",
    "            Map<String, Object> outputs = new HashMap<>();\n",
    "            FloatBuffer loss = FloatBuffer.allocate(1);\n",
    "            outputs.put(\"loss\", loss);\n",
    "\n",
    "            interpreter.runSignature(inputs, outputs, \"train\");\n",
    "\n",
    "            // Record the last loss.\n",
    "            if (batchIdx == NUM_BATCHES - 1) losses[epoch] = loss.get(0);\n",
    "        }\n",
    "\n",
    "        // Print the loss output for every 10 epochs.\n",
    "        if ((epoch + 1) % 10 == 0) {\n",
    "            System.out.println(\n",
    "              \"Finished \" + (epoch + 1) + \" epochs, current loss: \" + loss.get(0));\n",
    "        }\n",
    "    }\n",
    "\n",
    "    // ...\n",
    "}\n",
    "```\n"
   ]
  },
  {
   "cell_type": "markdown",
   "metadata": {
    "id": "cPEzyHAZs7Gl"
   },
   "source": [
    "You can see a complete code example of model retraining inside an Android app in the [model personalization demo app](https://github.com/tensorflow/examples/blob/master/lite/examples/model_personalization/android/transfer_api/src/main/java/org/tensorflow/lite/examples/transfer/api/LiteMultipleSignatureModel.java)."
   ]
  },
  {
   "cell_type": "markdown",
   "metadata": {
    "id": "HuBlL9z5GASQ"
   },
   "source": [
    "Run training for a few epochs to improve or personalize the model. In practice, you would run this additional training using data collected on the device. For simplicity, this example uses the same training data as the previous training step."
   ]
  },
  {
   "cell_type": "code",
   "execution_count": 19,
   "metadata": {
    "colab": {
     "base_uri": "https://localhost:8080/"
    },
    "id": "pjQ5xrhyGcIQ",
    "outputId": "b386afbc-44d0-44f5-b000-cba57e16d2af",
    "scrolled": false
   },
   "outputs": [
    {
     "name": "stdout",
     "output_type": "stream",
     "text": [
      "Finished 1 epochs\n",
      "  loss: 0.172\n",
      "  time: 88.84 seconds\n",
      "Finished 2 epochs\n",
      "  loss: 0.165\n",
      "  time: 84.08 seconds\n"
     ]
    },
    {
     "ename": "KeyboardInterrupt",
     "evalue": "",
     "output_type": "error",
     "traceback": [
      "\u001b[0;31m---------------------------------------------------------------------------\u001b[0m",
      "\u001b[0;31mKeyboardInterrupt\u001b[0m                         Traceback (most recent call last)",
      "Cell \u001b[0;32mIn [19], line 8\u001b[0m\n\u001b[1;32m      6\u001b[0m \u001b[38;5;28;01mfor\u001b[39;00m i \u001b[38;5;129;01min\u001b[39;00m \u001b[38;5;28mrange\u001b[39m(NUM_EPOCHS):\n\u001b[1;32m      7\u001b[0m     \u001b[38;5;28;01mfor\u001b[39;00m x,y \u001b[38;5;129;01min\u001b[39;00m train_ds:\n\u001b[0;32m----> 8\u001b[0m         result \u001b[38;5;241m=\u001b[39m \u001b[43mtrain\u001b[49m\u001b[43m(\u001b[49m\u001b[43mx\u001b[49m\u001b[38;5;241;43m=\u001b[39;49m\u001b[43mx\u001b[49m\u001b[43m,\u001b[49m\u001b[43m \u001b[49m\u001b[43my\u001b[49m\u001b[38;5;241;43m=\u001b[39;49m\u001b[43my\u001b[49m\u001b[43m)\u001b[49m\n\u001b[1;32m      9\u001b[0m     more_losses[i] \u001b[38;5;241m=\u001b[39m result[\u001b[38;5;124m'\u001b[39m\u001b[38;5;124mloss\u001b[39m\u001b[38;5;124m'\u001b[39m]\n\u001b[1;32m     10\u001b[0m     \u001b[38;5;28;01mif\u001b[39;00m (i \u001b[38;5;241m+\u001b[39m \u001b[38;5;241m1\u001b[39m) \u001b[38;5;241m%\u001b[39m (NUM_EPOCHS\u001b[38;5;241m/\u001b[39m\u001b[38;5;241m10\u001b[39m) \u001b[38;5;241m==\u001b[39m \u001b[38;5;241m0\u001b[39m:\n",
      "File \u001b[0;32m~/.local/lib/python3.11/site-packages/tensorflow/lite/python/interpreter.py:249\u001b[0m, in \u001b[0;36mSignatureRunner.__call__\u001b[0;34m(self, **kwargs)\u001b[0m\n\u001b[1;32m    245\u001b[0m \u001b[38;5;28;01mfor\u001b[39;00m input_name, value \u001b[38;5;129;01min\u001b[39;00m kwargs\u001b[38;5;241m.\u001b[39mitems():\n\u001b[1;32m    246\u001b[0m   \u001b[38;5;28mself\u001b[39m\u001b[38;5;241m.\u001b[39m_interpreter_wrapper\u001b[38;5;241m.\u001b[39mSetTensor(\u001b[38;5;28mself\u001b[39m\u001b[38;5;241m.\u001b[39m_inputs[input_name], value,\n\u001b[1;32m    247\u001b[0m                                       \u001b[38;5;28mself\u001b[39m\u001b[38;5;241m.\u001b[39m_subgraph_index)\n\u001b[0;32m--> 249\u001b[0m \u001b[38;5;28;43mself\u001b[39;49m\u001b[38;5;241;43m.\u001b[39;49m\u001b[43m_interpreter_wrapper\u001b[49m\u001b[38;5;241;43m.\u001b[39;49m\u001b[43mInvoke\u001b[49m\u001b[43m(\u001b[49m\u001b[38;5;28;43mself\u001b[39;49m\u001b[38;5;241;43m.\u001b[39;49m\u001b[43m_subgraph_index\u001b[49m\u001b[43m)\u001b[49m\n\u001b[1;32m    250\u001b[0m result \u001b[38;5;241m=\u001b[39m {}\n\u001b[1;32m    251\u001b[0m \u001b[38;5;28;01mfor\u001b[39;00m output_name, output_index \u001b[38;5;129;01min\u001b[39;00m \u001b[38;5;28mself\u001b[39m\u001b[38;5;241m.\u001b[39m_outputs:\n",
      "\u001b[0;31mKeyboardInterrupt\u001b[0m: "
     ]
    }
   ],
   "source": [
    "train = interpreter.get_signature_runner(\"train\")\n",
    "more_epochs = np.arange(epochs[-1]+1, epochs[-1] + NUM_EPOCHS + 1, 1)\n",
    "more_losses = np.zeros([NUM_EPOCHS])\n",
    "\n",
    "start = time.time()\n",
    "for i in range(NUM_EPOCHS):\n",
    "    for x,y in train_ds:\n",
    "        result = train(x=x, y=y)\n",
    "    more_losses[i] = result['loss']\n",
    "    if (i + 1) % (NUM_EPOCHS/10) == 0:\n",
    "        end = time.time()\n",
    "        print(f\"Finished {i+1} epochs\")\n",
    "        print(f\"  loss: {more_losses[i]:.3f}\")\n",
    "        print(f\"  time: {(end - start):.2f} seconds\")\n",
    "        start = time.time()\n"
   ]
  },
  {
   "cell_type": "code",
   "execution_count": 20,
   "metadata": {
    "colab": {
     "base_uri": "https://localhost:8080/",
     "height": 449
    },
    "id": "vX7dQXx_iPuv",
    "outputId": "8a1b30a1-c6ec-469d-9f9b-427371830ce9",
    "scrolled": false
   },
   "outputs": [
    {
     "data": {
      "image/png": "[encoded data removed]",
      "text/plain": [
       "<Figure size 640x480 with 1 Axes>"
      ]
     },
     "metadata": {},
     "output_type": "display_data"
    }
   ],
   "source": [
    "plt.plot(epochs, losses, label='Pre-training')\n",
    "plt.plot(more_epochs, more_losses, label='On device')\n",
    "plt.ylim([0, max(plt.ylim())])\n",
    "plt.xlabel('Epoch')\n",
    "plt.ylabel('Loss [Cross Entropy]')\n",
    "plt.legend();"
   ]
  },
  {
   "cell_type": "markdown",
   "metadata": {
    "id": "Jbe9_LjAbEMF"
   },
   "source": [
    "Above you can see that the on-device training picks up exactly where the pretraining stopped."
   ]
  },
  {
   "cell_type": "markdown",
   "metadata": {
    "id": "UDIi0_RlPb2n"
   },
   "source": [
    "## Retrain the model using GPU\n",
    "\n",
    "Using precompiled gpu_delegate to speed up training."
   ]
  },
  {
   "cell_type": "code",
   "execution_count": 21,
   "metadata": {
    "id": "vz6QTrvsrG6b",
    "scrolled": false
   },
   "outputs": [
    {
     "name": "stderr",
     "output_type": "stream",
     "text": [
      "INFO: Created TensorFlow Lite delegate for GPU.\n"
     ]
    },
    {
     "ename": "RuntimeError",
     "evalue": "",
     "output_type": "error",
     "traceback": [
      "\u001b[0;31m---------------------------------------------------------------------------\u001b[0m",
      "\u001b[0;31mRuntimeError\u001b[0m                              Traceback (most recent call last)",
      "Cell \u001b[0;32mIn [21], line 10\u001b[0m\n\u001b[1;32m      5\u001b[0m \u001b[38;5;66;03m#except ValueError:\u001b[39;00m\n\u001b[1;32m      6\u001b[0m     \u001b[38;5;66;03m#Fallback to CPU\u001b[39;00m\n\u001b[1;32m      7\u001b[0m \u001b[38;5;66;03m#    print('delegate error')\u001b[39;00m\n\u001b[1;32m      9\u001b[0m \u001b[38;5;28;01mif\u001b[39;00m delegate:\n\u001b[0;32m---> 10\u001b[0m     interpreter_gpu \u001b[38;5;241m=\u001b[39m \u001b[43mtf\u001b[49m\u001b[38;5;241;43m.\u001b[39;49m\u001b[43mlite\u001b[49m\u001b[38;5;241;43m.\u001b[39;49m\u001b[43mInterpreter\u001b[49m\u001b[43m(\u001b[49m\u001b[43mTFLITE_MODEL\u001b[49m\u001b[43m,\u001b[49m\u001b[43m \u001b[49m\u001b[43mexperimental_delegates\u001b[49m\u001b[38;5;241;43m=\u001b[39;49m\u001b[43m[\u001b[49m\u001b[43mdelegate\u001b[49m\u001b[43m]\u001b[49m\u001b[43m)\u001b[49m\n\u001b[1;32m     11\u001b[0m \u001b[38;5;28;01melse\u001b[39;00m:    \n\u001b[1;32m     12\u001b[0m     interpreter_gpu \u001b[38;5;241m=\u001b[39m Interpreter(TFLITE_MODEL)\n",
      "File \u001b[0;32m~/.local/lib/python3.11/site-packages/tensorflow/lite/python/interpreter.py:513\u001b[0m, in \u001b[0;36mInterpreter.__init__\u001b[0;34m(self, model_path, model_content, experimental_delegates, num_threads, experimental_op_resolver_type, experimental_preserve_all_tensors, experimental_disable_delegate_clustering)\u001b[0m\n\u001b[1;32m    511\u001b[0m   \u001b[38;5;28mself\u001b[39m\u001b[38;5;241m.\u001b[39m_delegates \u001b[38;5;241m=\u001b[39m experimental_delegates\n\u001b[1;32m    512\u001b[0m   \u001b[38;5;28;01mfor\u001b[39;00m delegate \u001b[38;5;129;01min\u001b[39;00m \u001b[38;5;28mself\u001b[39m\u001b[38;5;241m.\u001b[39m_delegates:\n\u001b[0;32m--> 513\u001b[0m     \u001b[38;5;28;43mself\u001b[39;49m\u001b[38;5;241;43m.\u001b[39;49m\u001b[43m_interpreter\u001b[49m\u001b[38;5;241;43m.\u001b[39;49m\u001b[43mModifyGraphWithDelegate\u001b[49m\u001b[43m(\u001b[49m\n\u001b[1;32m    514\u001b[0m \u001b[43m        \u001b[49m\u001b[43mdelegate\u001b[49m\u001b[38;5;241;43m.\u001b[39;49m\u001b[43m_get_native_delegate_pointer\u001b[49m\u001b[43m(\u001b[49m\u001b[43m)\u001b[49m\u001b[43m)\u001b[49m  \u001b[38;5;66;03m# pylint: disable=protected-access\u001b[39;00m\n\u001b[1;32m    515\u001b[0m \u001b[38;5;28mself\u001b[39m\u001b[38;5;241m.\u001b[39m_signature_defs \u001b[38;5;241m=\u001b[39m \u001b[38;5;28mself\u001b[39m\u001b[38;5;241m.\u001b[39mget_signature_list()\n\u001b[1;32m    517\u001b[0m \u001b[38;5;28mself\u001b[39m\u001b[38;5;241m.\u001b[39m_metrics \u001b[38;5;241m=\u001b[39m metrics\u001b[38;5;241m.\u001b[39mTFLiteMetrics()\n",
      "\u001b[0;31mRuntimeError\u001b[0m: "
     ]
    }
   ],
   "source": [
    "# try to load the model with tflite (gpu)\n",
    "try:\n",
    "    delegate = tf.lite.experimental.load_delegate('./tensorflow-master/bazel-bin/tensorflow/lite/delegates/gpu/libtensorflowlite_gpu_delegate.so')\n",
    "except Exception as e: print(e)\n",
    "#except ValueError:\n",
    "    #Fallback to CPU\n",
    "#    print('delegate error')\n",
    "    \n",
    "if delegate:\n",
    "    interpreter_gpu = tf.lite.Interpreter(TFLITE_MODEL, experimental_delegates=[delegate])\n",
    "else:    \n",
    "    interpreter_gpu = Interpreter(TFLITE_MODEL)\n",
    "\n",
    "interpreter_gpu.allocate_tensors()"
   ]
  },
  {
   "cell_type": "code",
   "execution_count": null,
   "metadata": {
    "id": "Od3mFq8ftpvS",
    "scrolled": false
   },
   "outputs": [],
   "source": [
    "train = interpreter_gpu.get_signature_runner(\"train\")\n",
    "\n",
    "even_more_epochs = np.arange(epochs[-1]+1, epochs[-1] + NUM_EPOCHS + 1, 1)\n",
    "even_more_losses = np.zeros([NUM_EPOCHS])\n",
    "\n",
    "start = time.time()\n",
    "for i in range(NUM_EPOCHS):\n",
    "    for x,y in train_ds:\n",
    "        result = train(x=x, y=y)\n",
    "    even_more_losses[i] = result['loss']\n",
    "    if (i + 1) % (NUM_EPOCHS/10) == 0:\n",
    "        end = time.time()\n",
    "        print(f\"Finished {i+1} epochs\")\n",
    "        print(f\"  loss: {even_more_losses[i]:.3f}\")\n",
    "        print(f\"  time: {(end - start):.2f} seconds\")\n",
    "        start = time.time()\n"
   ]
  },
  {
   "cell_type": "markdown",
   "metadata": {
    "id": "S0MFhMh6rG6d"
   },
   "source": [
    "## Save the trained weights\n",
    "\n",
    "When you complete a training run on a device, the model updates the set of weights it is using in memory. Using the `save` signature method you created in your TensorFlow Lite model, you can save these weights to a checkpoint file for later reuse and improve your model."
   ]
  },
  {
   "cell_type": "code",
   "execution_count": null,
   "metadata": {
    "id": "7c3d3cc5f171",
    "scrolled": false
   },
   "outputs": [],
   "source": [
    "save = interpreter.get_signature_runner(\"save\")\n",
    "\n",
    "save(checkpoint_path=np.array(\"/tmp/model.ckpt\", dtype=np.string_))"
   ]
  },
  {
   "cell_type": "markdown",
   "metadata": {
    "id": "vvlZN-rhR_Ag"
   },
   "source": [
    "In your Android application, you can store the generated weights as a checkpoint file in the internal storage space allocated for your app.\n",
    "\n",
    "```Java\n",
    "try (Interpreter interpreter = new Interpreter(modelBuffer)) {\n",
    "    // Conduct the training jobs.\n",
    "\n",
    "    // Export the trained weights as a checkpoint file.\n",
    "    File outputFile = new File(getFilesDir(), \"checkpoint.ckpt\");\n",
    "    Map<String, Object> inputs = new HashMap<>();\n",
    "    inputs.put(\"checkpoint_path\", outputFile.getAbsolutePath());\n",
    "    Map<String, Object> outputs = new HashMap<>();\n",
    "    interpreter.runSignature(inputs, outputs, \"save\");\n",
    "}\n",
    "```"
   ]
  },
  {
   "cell_type": "markdown",
   "metadata": {
    "id": "SSDydMyOQfL5"
   },
   "source": [
    "## Restore the trained weights\n",
    "\n",
    "Any time you create an interpreter from a TFLite model, the interpreter will initially load the original model weights.\n",
    "\n",
    "So after you've done some training and saved a checkpoint file, you'll need to run the `restore` signature method to load the checkpoint.\n",
    "\n",
    "A good rule is \"Anytime you create an Interpreter for a model, if the checkpoint exists, load it\". If you need to reset the model to the baseline behavior, just delete the checkpoint and create a fresh interpreter.\n"
   ]
  },
  {
   "cell_type": "code",
   "execution_count": null,
   "metadata": {
    "id": "5yIZoLveRZgp",
    "scrolled": false
   },
   "outputs": [],
   "source": [
    "another_interpreter = tf.lite.Interpreter(model_content=tflite_model)\n",
    "another_interpreter.allocate_tensors()\n",
    "\n",
    "infer = another_interpreter.get_signature_runner(\"infer\")\n",
    "restore = another_interpreter.get_signature_runner(\"restore\")"
   ]
  },
  {
   "cell_type": "code",
   "execution_count": null,
   "metadata": {
    "id": "fjiUbx7zIoLq",
    "scrolled": false
   },
   "outputs": [],
   "source": [
    "logits_before = infer(x=train_images[:1])['logits'][0]\n",
    "\n",
    "# Restore the trained weights from /tmp/model.ckpt\n",
    "restore(checkpoint_path=np.array(\"/tmp/model.ckpt\", dtype=np.string_))\n",
    "\n",
    "logits_after = infer(x=train_images[:1])['logits'][0]\n",
    "\n",
    "compare_logits({'Before': logits_before, 'After': logits_after})"
   ]
  },
  {
   "cell_type": "markdown",
   "metadata": {
    "id": "X7T6pja2bPqV"
   },
   "source": [
    "The checkpoint was generated by training and saving with TFLite. Above you can see that applying the checkpoint updates the behavior of the model."
   ]
  },
  {
   "cell_type": "markdown",
   "metadata": {
    "id": "cAo-3Eg7oGH7"
   },
   "source": [
    "Note: Loading the saved weights from the checkpoint can take time, based on the number of variables in the model and the size of the checkpoint file.\n"
   ]
  },
  {
   "cell_type": "markdown",
   "metadata": {
    "id": "v9I_-gjdSnGn"
   },
   "source": [
    "In your Android app, you can restore the serialized, trained weights from the checkpoint file you stored earlier.\n",
    "\n",
    "```Java\n",
    "try (Interpreter anotherInterpreter = new Interpreter(modelBuffer)) {\n",
    "    // Load the trained weights from the checkpoint file.\n",
    "    File outputFile = new File(getFilesDir(), \"checkpoint.ckpt\");\n",
    "    Map<String, Object> inputs = new HashMap<>();\n",
    "    inputs.put(\"checkpoint_path\", outputFile.getAbsolutePath());\n",
    "    Map<String, Object> outputs = new HashMap<>();\n",
    "    anotherInterpreter.runSignature(inputs, outputs, \"restore\");\n",
    "}\n",
    "```\n",
    "\n",
    "Note: When your application restarts, you should reload your trained weights prior to running new inferences."
   ]
  },
  {
   "cell_type": "markdown",
   "metadata": {
    "id": "zjcrv57DSkz2"
   },
   "source": [
    "## Run Inference using trained weights\n",
    "\n",
    "Once you have loaded previously saved weights from a checkpoint file, running the `infer` method uses those weights with your original model to improve predictions. After loading the saved weights, you can use the `infer` signature method as shown below.\n",
    "\n",
    "Note: Loading the saved weights is not required to run an inference, but running in that configuration produces predictions using the originally trained model, without improvements."
   ]
  },
  {
   "cell_type": "code",
   "execution_count": null,
   "metadata": {
    "id": "_ROmlpHWS0nX",
    "scrolled": false
   },
   "outputs": [],
   "source": [
    "infer = another_interpreter.get_signature_runner(\"infer\")\n",
    "result = infer(x=test_images)\n",
    "predictions = np.argmax(result[\"output\"], axis=1)\n",
    "\n",
    "true_labels = np.argmax(test_labels, axis=1)"
   ]
  },
  {
   "cell_type": "code",
   "execution_count": null,
   "metadata": {
    "id": "x6nHopKlAD6-",
    "scrolled": false
   },
   "outputs": [],
   "source": [
    "result['output'].shape"
   ]
  },
  {
   "cell_type": "markdown",
   "metadata": {
    "id": "fGPtqeVULZui"
   },
   "source": [
    "Plot the predicted labels."
   ]
  },
  {
   "cell_type": "code",
   "execution_count": null,
   "metadata": {
    "id": "GHbRasdfasd4",
    "scrolled": false
   },
   "outputs": [],
   "source": [
    "class_names = ['T-shirt/top', 'Trouser', 'Pullover', 'Dress', 'Coat',\n",
    "               'Sandal', 'Shirt', 'Sneaker', 'Bag', 'Ankle boot']\n",
    "\n",
    "def plot(images, predictions, true_labels):\n",
    "    plt.figure(figsize=(10,10))\n",
    "    for i in range(25):\n",
    "        plt.subplot(5,5,i+1)\n",
    "        plt.xticks([])\n",
    "        plt.yticks([])\n",
    "        plt.grid(False)\n",
    "        plt.imshow(images[i], cmap=plt.cm.binary)\n",
    "        color = 'b' if predictions[i] == true_labels[i] else 'r'\n",
    "        plt.xlabel(class_names[predictions[i]], color=color)\n",
    "    plt.show()\n",
    "\n",
    "plot(test_images, predictions, true_labels)"
   ]
  },
  {
   "cell_type": "code",
   "execution_count": null,
   "metadata": {
    "id": "Dm8BxJOm_4rG",
    "scrolled": false
   },
   "outputs": [],
   "source": [
    "predictions.shape"
   ]
  },
  {
   "cell_type": "markdown",
   "metadata": {
    "id": "eijDL3jNS6WI"
   },
   "source": [
    "In your Android application, after restoring the trained weights, run the inferences based on the loaded data.\n",
    "\n",
    "```Java\n",
    "try (Interpreter anotherInterpreter = new Interpreter(modelBuffer)) {\n",
    "    // Restore the weights from the checkpoint file.\n",
    "\n",
    "    int NUM_TESTS = 10;\n",
    "    FloatBuffer testImages = FloatBuffer.allocateDirect(NUM_TESTS * 28 * 28).order(ByteOrder.nativeOrder());\n",
    "    FloatBuffer output = FloatBuffer.allocateDirect(NUM_TESTS * 10).order(ByteOrder.nativeOrder());\n",
    "\n",
    "    // Fill the test data.\n",
    "\n",
    "    // Run the inference.\n",
    "    Map<String, Object> inputs = new HashMap<>();\n",
    "    inputs.put(\"x\", testImages.rewind());\n",
    "    Map<String, Object> outputs = new HashMap<>();\n",
    "    outputs.put(\"output\", output);\n",
    "    anotherInterpreter.runSignature(inputs, outputs, \"infer\");\n",
    "    output.rewind();\n",
    "\n",
    "    // Process the result to get the final category values.\n",
    "    int[] testLabels = new int[NUM_TESTS];\n",
    "    for (int i = 0; i < NUM_TESTS; ++i) {\n",
    "        int index = 0;\n",
    "        for (int j = 1; j < 10; ++j) {\n",
    "            if (output.get(i * 10 + index) < output.get(i * 10 + j)) index = testLabels[j];\n",
    "        }\n",
    "        testLabels[i] = index;\n",
    "    }\n",
    "}\n",
    "```"
   ]
  },
  {
   "cell_type": "markdown",
   "metadata": {
    "id": "cznoIDphGPEg"
   },
   "source": [
    "Congratulations! You now have built a TensorFlow Lite model that supports on-device training. For more coding details, check out the example implementation in the [model personalization demo app](https://github.com/tensorflow/examples/tree/master/lite/examples/model_personalization).\n",
    "\n",
    "If you are interested in learning more about image classification, check [Keras classification tutorial](https://www.tensorflow.org/tutorials/keras/classification) in the TensorFlow official guide page. This tutorial is based on that exercise and provides more depth on the subject of classification.\n"
   ]
  }
 ],
 "metadata": {
  "colab": {
   "provenance": []
  },
  "kernelspec": {
   "display_name": "Python 3 (ipykernel)",
   "language": "python",
   "name": "python3"
  },
  "language_info": {
   "codemirror_mode": {
    "name": "ipython",
    "version": 3
   },
   "file_extension": ".py",
   "mimetype": "text/x-python",
   "name": "python",
   "nbconvert_exporter": "python",
   "pygments_lexer": "ipython3",
   "version": "3.11.2"
  }
 },
 "nbformat": 4,
 "nbformat_minor": 1
}
