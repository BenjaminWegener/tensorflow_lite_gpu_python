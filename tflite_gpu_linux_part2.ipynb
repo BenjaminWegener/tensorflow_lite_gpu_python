{
 "cells": [
  {
   "cell_type": "markdown",
   "metadata": {
    "id": "DgrYSfn3EiLq"
   },
   "source": [
    "# TensorflowLite GPU delegate usage under Linux\n",
    "## part 2 - inference | using https://colab.research.google.com/github/tensorflow/examples/blob/master/lite/examples/digit_classifier/ml/mnist_tflite.ipynb\n",
    "### by https://github.com/BenjaminWegener"
   ]
  },
  {
   "cell_type": "markdown",
   "metadata": {
    "id": "FvVT0O1EGQUO"
   },
   "source": [
    "### in part 1 the gpu delegate was compiled, in this part we use this to run inference on gpu. the file will be downloaded from github, feel free to upload your own from part 1"
   ]
  },
  {
   "cell_type": "code",
   "execution_count": 2,
   "metadata": {
    "colab": {
     "base_uri": "https://localhost:8080/"
    },
    "id": "boLPkpMsGnyf",
    "outputId": "fa0cf9ba-d3ea-4af6-a291-a9bbae363599"
   },
   "outputs": [
    {
     "name": "stdout",
     "output_type": "stream",
     "text": [
      "libtensorflowlite_gpu_delegate_x64.so  sample_data\n",
      "--2024-02-03 21:49:15--  https://github.com/BenjaminWegener/tensorflow_lite_gpu_python/releases/download/v2.9.1/libtensorflowlite_gpu_delegate_x64.so\n",
      "Resolving github.com (github.com)... 140.82.114.3\n",
      "Connecting to github.com (github.com)|140.82.114.3|:443... connected.\n",
      "HTTP request sent, awaiting response... 404 Not Found\n",
      "2024-02-03 21:49:15 ERROR 404: Not Found.\n",
      "\n"
     ]
    }
   ],
   "source": [
    "# download gpu delegate\n",
    "!ls\n",
    "!wget https://github.com/BenjaminWegener/tensorflow_lite_gpu_python/releases/download/v2.9.1/libtensorflowlite_gpu_delegate_x64.so"
   ]
  },
  {
   "cell_type": "markdown",
   "metadata": {
    "id": "nCJLsGLBHspJ"
   },
   "source": [
    "# -------------------------------------------------"
   ]
  },
  {
   "cell_type": "markdown",
   "metadata": {
    "id": "Tce3stUlHN0L"
   },
   "source": [
    "##### Copyright 2019 The TensorFlow Authors.\n"
   ]
  },
  {
   "cell_type": "code",
   "execution_count": 2,
   "metadata": {
    "cellView": "form",
    "id": "tuOe1ymfHZPu"
   },
   "outputs": [],
   "source": [
    "#@title Licensed under the Apache License, Version 2.0 (the \"License\");\n",
    "# you may not use this file except in compliance with the License.\n",
    "# You may obtain a copy of the License at\n",
    "#\n",
    "# https://www.apache.org/licenses/LICENSE-2.0\n",
    "#\n",
    "# Unless required by applicable law or agreed to in writing, software\n",
    "# distributed under the License is distributed on an \"AS IS\" BASIS,\n",
    "# WITHOUT WARRANTIES OR CONDITIONS OF ANY KIND, either express or implied.\n",
    "# See the License for the specific language governing permissions and\n",
    "# limitations under the License."
   ]
  },
  {
   "cell_type": "markdown",
   "metadata": {
    "id": "MfBg1C5NB3X0"
   },
   "source": [
    "# Build a digit classifier app with TensorFlow Lite\n",
    "\n",
    "<table class=\"tfo-notebook-buttons\" align=\"left\">\n",
    "  <td>\n",
    "    <a target=\"_blank\" href=\"https://colab.research.google.com/github/tensorflow/examples/blob/master/lite/examples/digit_classifier/ml/mnist_tflite.ipynb\"><img src=\"https://www.tensorflow.org/images/colab_logo_32px.png\" />Run in Google Colab</a>\n",
    "  </td>\n",
    "  <td>\n",
    "    <a target=\"_blank\" href=\"https://github.com/tensorflow/examples/blob/master/lite/examples/digit_classifier/ml/mnist_tflite.ipynb\"><img src=\"https://www.tensorflow.org/images/GitHub-Mark-32px.png\" />View source on GitHub</a>\n",
    "  </td>\n",
    "</table>"
   ]
  },
  {
   "cell_type": "markdown",
   "metadata": {
    "id": "xHxb-dlhMIzW"
   },
   "source": [
    "## Overview\n",
    "\n",
    "This notebook shows an end-to-end example of training a TensorFlow model using Keras and Python, then export it to TensorFlow Lite format to use in mobile apps. Here we will train a handwritten digit classifier using MNIST dataset.\n"
   ]
  },
  {
   "cell_type": "markdown",
   "metadata": {
    "id": "MUXex9ctTuDB"
   },
   "source": [
    "## Setup"
   ]
  },
  {
   "cell_type": "code",
   "execution_count": 2,
   "metadata": {
    "colab": {
     "base_uri": "https://localhost:8080/"
    },
    "id": "kS_mq4yAlXHZ",
    "outputId": "14f14c8f-5069-48b3-94cb-11368b489320"
   },
   "outputs": [
    {
     "name": "stdout",
     "output_type": "stream",
     "text": [
      "2.15.0\n"
     ]
    }
   ],
   "source": [
    "# TensorFlow and tf.keras\n",
    "import tensorflow as tf\n",
    "from tensorflow import keras\n",
    "\n",
    "# Helper libraries\n",
    "import numpy as np\n",
    "import matplotlib.pyplot as plt\n",
    "import math\n",
    "\n",
    "print(tf.__version__)\n",
    "\n",
    "# Helper function to display digit images\n",
    "def show_sample(images, labels, sample_count=25):\n",
    "  # Create a square with can fit {sample_count} images\n",
    "  grid_count = math.ceil(math.ceil(math.sqrt(sample_count)))\n",
    "  grid_count = min(grid_count, len(images), len(labels))\n",
    "\n",
    "  plt.figure(figsize=(2*grid_count, 2*grid_count))\n",
    "  for i in range(sample_count):\n",
    "    plt.subplot(grid_count, grid_count, i+1)\n",
    "    plt.xticks([])\n",
    "    plt.yticks([])\n",
    "    plt.grid(False)\n",
    "    plt.imshow(images[i], cmap=plt.cm.gray)\n",
    "    plt.xlabel(labels[i])\n",
    "  plt.show()"
   ]
  },
  {
   "cell_type": "markdown",
   "metadata": {
    "id": "r0WlLrJcnwWp"
   },
   "source": [
    "## Download and explore the MNIST dataset\n",
    "The MNIST database contains 60,000 training images and 10,000 testing images of handwritten digits. We will use the dataset to demonstrate how to train a image classification model and convert it to TensorFlow Lite format.\n",
    "\n",
    "Each image in the MNIST dataset is a 28x28 grayscale image containing a digit.\n",
    "![MNIST sample](https://storage.googleapis.com/khanhlvg-public.appspot.com/digit-classifier/mnist.png)"
   ]
  },
  {
   "cell_type": "code",
   "execution_count": 3,
   "metadata": {
    "colab": {
     "base_uri": "https://localhost:8080/"
    },
    "id": "B5REuMrblewK",
    "outputId": "9ae63323-a6a5-490e-cd4b-e6f5581d41eb"
   },
   "outputs": [],
   "source": [
    "# Download MNIST dataset.\n",
    "mnist = keras.datasets.mnist\n",
    "(train_images, train_labels), (test_images, test_labels) = mnist.load_data()\n",
    "\n",
    "# If you can't download the MNIST dataset from Keras, please try again with an alternative method below\n",
    "# path = keras.utils.get_file('mnist.npz',\n",
    "#                             origin='https://s3.amazonaws.com/img-datasets/mnist.npz',\n",
    "#                             file_hash='8a61469f7ea1b51cbae51d4f78837e45')\n",
    "# with np.load(path, allow_pickle=True) as f:\n",
    "#   train_images, train_labels = f['x_train'], f['y_train']\n",
    "#   test_images, test_labels = f['x_test'], f['y_test']"
   ]
  },
  {
   "cell_type": "code",
   "execution_count": 4,
   "metadata": {
    "id": "REY5lDDylpFh"
   },
   "outputs": [],
   "source": [
    "# Normalize the input image so that each pixel value is between 0 to 1.\n",
    "train_images = train_images / 255.0\n",
    "test_images = test_images / 255.0"
   ]
  },
  {
   "cell_type": "code",
   "execution_count": 5,
   "metadata": {
    "colab": {
     "base_uri": "https://localhost:8080/",
     "height": 0
    },
    "id": "SAOE84IplyWR",
    "outputId": "2b5bc123-a3d5-4a8e-b34e-40c29a37c0b2"
   },
   "outputs": [
    {
     "data": {
      "image/png": "[encoded data removed]",
      "text/plain": [
       "<Figure size 1000x1000 with 25 Axes>"
      ]
     },
     "metadata": {},
     "output_type": "display_data"
    }
   ],
   "source": [
    "# Show the first 25 images in the training dataset.\n",
    "show_sample(train_images,\n",
    "            ['Label: %s' % label for label in train_labels])"
   ]
  },
  {
   "cell_type": "markdown",
   "metadata": {
    "id": "9v-Wp3TxpLX6"
   },
   "source": [
    "## Train a TensorFlow model to classify digit images\n",
    "We use Keras API to build a TensorFlow model that can classify the digit images. Please see this [tutorial](https://www.tensorflow.org/beta/tutorials/keras/basic_classification) if you are interested to learn more about how to build machine learning model with Keras and TensorFlow."
   ]
  },
  {
   "cell_type": "code",
   "execution_count": 6,
   "metadata": {
    "id": "IWgBGmaplzcp"
   },
   "outputs": [],
   "source": [
    "# Define the model architecture\n",
    "model = keras.Sequential([\n",
    "    keras.layers.Flatten(input_shape=(28, 28)),\n",
    "    keras.layers.Dense(128, activation=tf.nn.relu),\n",
    "\n",
    "# Optional: You can replace the dense layer above with the convolution layers below to get higher accuracy.\n",
    "    # keras.layers.Reshape(target_shape=(28, 28, 1)),\n",
    "    # keras.layers.Conv2D(filters=32, kernel_size=(3, 3), activation=tf.nn.relu),\n",
    "    # keras.layers.Conv2D(filters=64, kernel_size=(3, 3), activation=tf.nn.relu),\n",
    "    # keras.layers.MaxPooling2D(pool_size=(2, 2)),\n",
    "    # keras.layers.Dropout(0.25),\n",
    "    # keras.layers.Flatten(input_shape=(28, 28)),\n",
    "    # keras.layers.Dense(128, activation=tf.nn.relu),\n",
    "    # keras.layers.Dropout(0.5),\n",
    "\n",
    "    keras.layers.Dense(10)\n",
    "])\n",
    "\n",
    "model.compile(optimizer='adam',\n",
    "              loss=tf.keras.losses.SparseCategoricalCrossentropy(from_logits=True),\n",
    "              metrics=['accuracy'])"
   ]
  },
  {
   "cell_type": "code",
   "execution_count": 7,
   "metadata": {
    "colab": {
     "base_uri": "https://localhost:8080/"
    },
    "id": "V6SOZuLRmEzS",
    "outputId": "e369355b-0906-48e7-9df0-d1f7577e213b"
   },
   "outputs": [
    {
     "name": "stderr",
     "output_type": "stream",
     "text": [
      "2024-02-04 02:51:52.584452: W external/local_tsl/tsl/framework/cpu_allocator_impl.cc:83] Allocation of 188160000 exceeds 10% of free system memory.\n"
     ]
    },
    {
     "name": "stdout",
     "output_type": "stream",
     "text": [
      "Epoch 1/5\n",
      "1875/1875 [==============================] - 30s 15ms/step - loss: 0.2573 - accuracy: 0.9278\n",
      "Epoch 2/5\n",
      "1875/1875 [==============================] - 27s 14ms/step - loss: 0.1108 - accuracy: 0.9675\n",
      "Epoch 3/5\n",
      "1875/1875 [==============================] - 28s 15ms/step - loss: 0.0771 - accuracy: 0.9768\n",
      "Epoch 4/5\n",
      "1875/1875 [==============================] - 27s 15ms/step - loss: 0.0572 - accuracy: 0.9820\n",
      "Epoch 5/5\n",
      "1875/1875 [==============================] - 26s 14ms/step - loss: 0.0447 - accuracy: 0.9858\n"
     ]
    },
    {
     "data": {
      "text/plain": [
       "<keras.src.callbacks.History at 0x756dc5ac10>"
      ]
     },
     "execution_count": 7,
     "metadata": {},
     "output_type": "execute_result"
    }
   ],
   "source": [
    "# Train the digit classification model\n",
    "model.fit(train_images, train_labels, epochs=5)"
   ]
  },
  {
   "cell_type": "markdown",
   "metadata": {
    "id": "za35DFJ5uFkX"
   },
   "source": [
    "## Evaluate our model\n",
    "We run our digit classification model against our test dataset that the model hasn't seen during its training process. We want to confirm that the model didn't just remember the digits it saw but also generalize well to new images."
   ]
  },
  {
   "cell_type": "code",
   "execution_count": 8,
   "metadata": {
    "colab": {
     "base_uri": "https://localhost:8080/"
    },
    "id": "sJI8nqFWmMwC",
    "outputId": "7e44b880-e488-4e16-be4a-c155e85f8134"
   },
   "outputs": [
    {
     "name": "stderr",
     "output_type": "stream",
     "text": [
      "2024-02-04 02:54:20.869833: W external/local_tsl/tsl/framework/cpu_allocator_impl.cc:83] Allocation of 31360000 exceeds 10% of free system memory.\n"
     ]
    },
    {
     "name": "stdout",
     "output_type": "stream",
     "text": [
      "313/313 [==============================] - 4s 9ms/step - loss: 0.0817 - accuracy: 0.9754\n",
      "Test accuracy: 0.9753999710083008\n"
     ]
    }
   ],
   "source": [
    "# Evaluate the model using test dataset.\n",
    "test_loss, test_acc = model.evaluate(test_images, test_labels)\n",
    "\n",
    "print('Test accuracy:', test_acc)"
   ]
  },
  {
   "cell_type": "code",
   "execution_count": 9,
   "metadata": {
    "colab": {
     "base_uri": "https://localhost:8080/",
     "height": 845
    },
    "id": "PdlXEyUImeXC",
    "outputId": "c44f739f-d4cf-4b0f-a491-286756c4b315"
   },
   "outputs": [
    {
     "name": "stdout",
     "output_type": "stream",
     "text": [
      "313/313 [==============================] - 3s 8ms/step\n"
     ]
    },
    {
     "data": {
      "image/png": "[encoded data removed]",
      "text/plain": [
       "<Figure size 1000x1000 with 25 Axes>"
      ]
     },
     "metadata": {},
     "output_type": "display_data"
    }
   ],
   "source": [
    "# Predict the labels of digit images in our test dataset.\n",
    "predictions = model.predict(test_images)\n",
    "\n",
    "# Then plot the first 25 test images and their predicted labels.\n",
    "show_sample(test_images,\n",
    "            ['Predicted: %d' % np.argmax(result) for result in predictions])"
   ]
  },
  {
   "cell_type": "markdown",
   "metadata": {
    "id": "AWROBI4iv9fY"
   },
   "source": [
    "## Convert the Keras model to TensorFlow Lite"
   ]
  },
  {
   "cell_type": "code",
   "execution_count": 10,
   "metadata": {
    "id": "2fXStjR4mzkR"
   },
   "outputs": [
    {
     "name": "stdout",
     "output_type": "stream",
     "text": [
      "INFO:tensorflow:Assets written to: /tmp/tmp8y4psfix/assets\n"
     ]
    },
    {
     "name": "stderr",
     "output_type": "stream",
     "text": [
      "INFO:tensorflow:Assets written to: /tmp/tmp8y4psfix/assets\n",
      "2024-02-04 02:54:35.634097: W tensorflow/compiler/mlir/lite/python/tf_tfl_flatbuffer_helpers.cc:378] Ignored output_format.\n",
      "2024-02-04 02:54:35.636038: W tensorflow/compiler/mlir/lite/python/tf_tfl_flatbuffer_helpers.cc:381] Ignored drop_control_dependency.\n",
      "2024-02-04 02:54:35.638818: I tensorflow/cc/saved_model/reader.cc:83] Reading SavedModel from: /tmp/tmp8y4psfix\n",
      "2024-02-04 02:54:35.641670: I tensorflow/cc/saved_model/reader.cc:51] Reading meta graph with tags { serve }\n",
      "2024-02-04 02:54:35.641889: I tensorflow/cc/saved_model/reader.cc:146] Reading SavedModel debug info (if present) from: /tmp/tmp8y4psfix\n",
      "2024-02-04 02:54:35.650141: I tensorflow/compiler/mlir/mlir_graph_optimization_pass.cc:388] MLIR V1 optimization pass is not enabled\n",
      "2024-02-04 02:54:35.652863: I tensorflow/cc/saved_model/loader.cc:233] Restoring SavedModel bundle.\n",
      "2024-02-04 02:54:35.765197: I tensorflow/cc/saved_model/loader.cc:217] Running initialization op on SavedModel bundle at path: /tmp/tmp8y4psfix\n",
      "2024-02-04 02:54:35.800329: I tensorflow/cc/saved_model/loader.cc:316] SavedModel load for tags { serve }; Status: success: OK. Took 161525 microseconds.\n",
      "2024-02-04 02:54:36.076596: I tensorflow/compiler/mlir/tensorflow/utils/dump_mlir_util.cc:269] disabling MLIR crash reproducer, set env var `MLIR_CRASH_REPRODUCER_DIRECTORY` to enable.\n",
      "Summary on the non-converted ops:\n",
      "---------------------------------\n",
      " * Accepted dialects: tfl, builtin, func\n",
      " * Non-Converted Ops: 3, Total Ops 11, % non-converted = 27.27 %\n",
      " * 3 ARITH ops\n",
      "\n",
      "- arith.constant:    3 occurrences  (f32: 2, i32: 1)\n",
      "\n",
      "\n",
      "\n",
      "  (f32: 2)\n",
      "  (uq_8: 2)\n",
      "  (f32: 1)\n"
     ]
    }
   ],
   "source": [
    "# Convert Keras model to TF Lite format.\n",
    "converter = tf.lite.TFLiteConverter.from_keras_model(model)\n",
    "converter.optimizations = [tf.lite.Optimize.DEFAULT]\n",
    "converter.target_spec.supported_ops = [\n",
    "    tf.lite.OpsSet.TFLITE_BUILTINS,  # enable TensorFlow Lite ops.\n",
    "    tf.lite.OpsSet.SELECT_TF_OPS  # enable TensorFlow ops.\n",
    "]\n",
    "converter.target_spec.experimental_supported_backends = [\"GPU\"]\n",
    "converter.experimental_enable_resource_variables = True\n",
    "tflite_model = converter.convert()\n",
    "\n",
    "# Save the TF Lite model as file\n",
    "f = open('mnist.tflite', \"wb\")\n",
    "f.write(tflite_model)\n",
    "f.close()"
   ]
  },
  {
   "cell_type": "code",
   "execution_count": 11,
   "metadata": {
    "colab": {
     "base_uri": "https://localhost:8080/",
     "height": 17
    },
    "id": "Q_Z5yLxrwbpI",
    "outputId": "792c1fb8-e4f5-42fd-85d0-e6d2fd7948c5"
   },
   "outputs": [
    {
     "name": "stdout",
     "output_type": "stream",
     "text": [
      "TF Lite model: /home/user/mnist.tflite\n"
     ]
    }
   ],
   "source": [
    "# Download the digit classification model if you're using Colab,\n",
    "# or print the model's local path if you're not using Colab.\n",
    "try:\n",
    "  from google.colab import files\n",
    "  files.download('mnist.tflite')\n",
    "except ImportError:\n",
    "  import os\n",
    "  print('TF Lite model:', os.path.join(os.getcwd(), 'mnist.tflite'))"
   ]
  },
  {
   "cell_type": "markdown",
   "metadata": {
    "id": "3TvDxaYU2ui7"
   },
   "source": [
    "## Verify the TensorFlow Lite model"
   ]
  },
  {
   "cell_type": "code",
   "execution_count": 12,
   "metadata": {
    "colab": {
     "base_uri": "https://localhost:8080/",
     "height": 267
    },
    "id": "fFtIESwrx7cR",
    "outputId": "00630811-ba41-4902-840b-c0a8d2b433f6"
   },
   "outputs": [
    {
     "data": {
      "image/png": "[encoded data removed]",
      "text/plain": [
       "<Figure size 200x200 with 1 Axes>"
      ]
     },
     "metadata": {},
     "output_type": "display_data"
    }
   ],
   "source": [
    "# Download a test image\n",
    "zero_img_path = keras.utils.get_file(\n",
    "    'zero.png',\n",
    "    'https://storage.googleapis.com/khanhlvg-public.appspot.com/digit-classifier/zero.png'\n",
    ")\n",
    "image = keras.preprocessing.image.load_img(\n",
    "    zero_img_path,\n",
    "    color_mode = 'grayscale',\n",
    "    target_size=(28, 28),\n",
    "    interpolation='bilinear'\n",
    ")\n",
    "\n",
    "# Pre-process the image: Adding batch dimension and normalize the pixel value to [0..1]\n",
    "# In training, we feed images in a batch to the model to improve training speed, making the model input shape to be (BATCH_SIZE, 28, 28).\n",
    "# For inference, we still need to match the input shape with training, so we expand the input dimensions to (1, 28, 28) using np.expand_dims\n",
    "input_image = np.expand_dims(np.array(image, dtype=np.float32) / 255.0, 0)\n",
    "\n",
    "# Show the pre-processed input image\n",
    "show_sample(input_image, ['Input Image'], 1)"
   ]
  },
  {
   "cell_type": "code",
   "execution_count": 13,
   "metadata": {
    "colab": {
     "base_uri": "https://localhost:8080/"
    },
    "id": "xPtbtEJ2uacB",
    "outputId": "0cf20711-a332-4824-85ca-1b15f1db2728"
   },
   "outputs": [
    {
     "name": "stdout",
     "output_type": "stream",
     "text": [
      "Predicted Digit: 0\n",
      "Confidence: 5.556248\n",
      "timing with 100 iterations...\n",
      "--- 0.11949753761291504 seconds ---\n"
     ]
    },
    {
     "name": "stderr",
     "output_type": "stream",
     "text": [
      "INFO: Created TensorFlow Lite XNNPACK delegate for CPU.\n"
     ]
    }
   ],
   "source": [
    "# Run inference with TensorFlow Lite\n",
    "interpreter = tf.lite.Interpreter(model_content=tflite_model)\n",
    "interpreter.allocate_tensors()\n",
    "interpreter.set_tensor(interpreter.get_input_details()[0][\"index\"], input_image)\n",
    "interpreter.invoke()\n",
    "output = interpreter.tensor(interpreter.get_output_details()[0][\"index\"])()[0]\n",
    "\n",
    "# Print the model's classification result\n",
    "digit = np.argmax(output)\n",
    "print('Predicted Digit: %d\\nConfidence: %f' % (digit, output[digit]))\n",
    "\n",
    "# Print the execution time for 100 iterations\n",
    "print('timing with 100 iterations...')\n",
    "import time\n",
    "start_time = time.time()\n",
    "for _ in range(100):\n",
    "    interpreter = tf.lite.Interpreter(model_content=tflite_model)\n",
    "    interpreter.allocate_tensors()\n",
    "    interpreter.set_tensor(interpreter.get_input_details()[0][\"index\"], input_image)\n",
    "    interpreter.invoke()\n",
    "    output = interpreter.tensor(interpreter.get_output_details()[0][\"index\"])()[0]\n",
    "print(\"--- %s seconds ---\" % (time.time() - start_time))"
   ]
  },
  {
   "cell_type": "markdown",
   "metadata": {
    "id": "WBDh4hrXIkaM"
   },
   "source": [
    "# -------------------------------------------------"
   ]
  },
  {
   "cell_type": "markdown",
   "metadata": {
    "id": "d1j31mpPIkaS"
   },
   "source": [
    "### run inference using the gpu delegate"
   ]
  },
  {
   "cell_type": "code",
   "execution_count": null,
   "metadata": {
    "colab": {
     "base_uri": "https://localhost:8080/",
     "height": 520
    },
    "id": "aqN1vqDJIry2",
    "outputId": "510fbb31-12f0-40bd-a696-b8ceccd2593f"
   },
   "outputs": [
    {
     "name": "stderr",
     "output_type": "stream",
     "text": [
      "INFO: Created TensorFlow Lite delegate for GPU.\n",
      "INFO: Initialized OpenGL-based API.\n",
      "INFO: Created 1 GPU delegate kernels.\n"
     ]
    }
   ],
   "source": [
    "# Run inference with TensorFlow Lite GPU Delegate\n",
    "delegate = tf.lite.experimental.load_delegate(\n",
    "    './libtensorflowlite_gpu_delegate_all_aarch64.so'\n",
    ")\n",
    "interpreter_gpu = tf.lite.Interpreter(model_content=tflite_model, experimental_delegates=[delegate])\n",
    "interpreter_gpu.allocate_tensors()\n",
    "interpreter_gpu.set_tensor(interpreter_gpu.get_input_details()[0][\"index\"], input_image)\n",
    "interpreter_gpu.invoke()\n",
    "output = interpreter_gpu.tensor(interpreter.get_output_details()[0][\"index\"])()[0]\n",
    "\n",
    "# Print the model's classification result\n",
    "digit = np.argmax(output)\n",
    "print('Predicted Digit: %d\\nConfidence: %f' % (digit, output[digit]))\n",
    "\n",
    "# Print the execution time for 100 iterations\n",
    "print('timing with 100 iterations...')\n",
    "import time\n",
    "start_time = time.time()\n",
    "for _ in range(100\n",
    "               ):\n",
    "    interpreter_gpu = tf.lite.Interpreter(model_content=tflite_model, experimental_delegates=[delegate])\n",
    "    interpreter_gpu.allocate_tensors()\n",
    "    interpreter_gpu.set_tensor(interpreter_gpu.get_input_details()[0][\"index\"], input_image)\n",
    "    interpreter_gpu.invoke()\n",
    "    output = interpreter.tensor(interpreter_gpu.get_output_details()[0][\"index\"])()[0]\n",
    "print(\"--- %s seconds ---\" % (time.time() - start_time))"
   ]
  },
  {
   "cell_type": "markdown",
   "metadata": {
    "id": "_qANUIO0V3BT"
   },
   "source": [
    "### -> inference is taking way more time than on cpu due too reloading the small model, this is beeing worked on"
   ]
  },
  {
   "cell_type": "code",
   "execution_count": null,
   "metadata": {},
   "outputs": [],
   "source": []
  }
 ],
 "metadata": {
  "accelerator": "GPU",
  "colab": {
   "provenance": []
  },
  "gpuClass": "standard",
  "kernelspec": {
   "display_name": "Python 3 (ipykernel)",
   "language": "python",
   "name": "python3"
  },
  "language_info": {
   "codemirror_mode": {
    "name": "ipython",
    "version": 3
   },
   "file_extension": ".py",
   "mimetype": "text/x-python",
   "name": "python",
   "nbconvert_exporter": "python",
   "pygments_lexer": "ipython3",
   "version": "3.11.2"
  }
 },
 "nbformat": 4,
 "nbformat_minor": 1
}
